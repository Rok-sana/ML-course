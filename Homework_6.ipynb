{
  "nbformat": 4,
  "nbformat_minor": 0,
  "metadata": {
    "colab": {
      "provenance": [],
      "authorship_tag": "ABX9TyP4YmqxtZSEEoEbIyGq77Je",
      "include_colab_link": true
    },
    "kernelspec": {
      "name": "python3",
      "display_name": "Python 3"
    },
    "language_info": {
      "name": "python"
    }
  },
  "cells": [
    {
      "cell_type": "markdown",
      "metadata": {
        "id": "view-in-github",
        "colab_type": "text"
      },
      "source": [
        "<a href=\"https://colab.research.google.com/github/Rok-sana/ML-course/blob/main/Homework_6.ipynb\" target=\"_parent\"><img src=\"https://colab.research.google.com/assets/colab-badge.svg\" alt=\"Open In Colab\"/></a>"
      ]
    },
    {
      "cell_type": "code",
      "execution_count": null,
      "metadata": {
        "id": "rYE7_0jqIKwL"
      },
      "outputs": [],
      "source": [
        "import pandas as pd\n",
        "import numpy as np\n",
        "import seaborn as sns\n",
        "import matplotlib.pyplot as plt\n",
        "\n",
        "from sklearn.linear_model import LogisticRegression\n",
        "from sklearn.model_selection import (train_test_split,\n",
        "                                     KFold,\n",
        "                                     cross_val_score,\n",
        "                                     GridSearchCV)\n",
        "\n",
        "from sklearn.metrics import (mean_absolute_error,\n",
        "                             mean_squared_error,\n",
        "                             roc_auc_score,\n",
        "                             r2_score,\n",
        "                             accuracy_score,\n",
        "                             confusion_matrix,\n",
        "                             classification_report,\n",
        "                             mutual_info_score,\n",
        "                             f1_score)\n",
        "\n",
        "from sklearn import preprocessing\n",
        "\n",
        "from sklearn.preprocessing import(MinMaxScaler,\n",
        "                                  StandardScaler,\n",
        "                                  LabelEncoder)\n",
        "\n",
        "from sklearn.neighbors import KNeighborsClassifier\n",
        "from yellowbrick.classifier import ClassificationReport\n",
        "from yellowbrick.features import Rank2D"
      ]
    },
    {
      "cell_type": "code",
      "source": [
        "df = pd.read_csv('abalone.data', header=None, prefix=\"X\")\n",
        "df.columns = ['Sex', 'Length', 'Diameter', 'Height', 'Whole weight',\n",
        "                        'Shucked weight', 'Viscera weight', 'Shell weight',\n",
        "                        'Rings']\n",
        "\n"
      ],
      "metadata": {
        "id": "r6_x0nGqKn8n"
      },
      "execution_count": null,
      "outputs": []
    },
    {
      "cell_type": "code",
      "source": [
        "df.head()"
      ],
      "metadata": {
        "colab": {
          "base_uri": "https://localhost:8080/",
          "height": 248
        },
        "id": "JT9beUVAKzLM",
        "outputId": "04624e23-3145-4cba-dedb-b07352c47dba"
      },
      "execution_count": null,
      "outputs": [
        {
          "output_type": "execute_result",
          "data": {
            "text/plain": [
              "  Sex  Length  Diameter  Height  Whole weight  Shucked weight  Viscera weight  \\\n",
              "0   M   0.455     0.365   0.095        0.5140          0.2245          0.1010   \n",
              "1   M   0.350     0.265   0.090        0.2255          0.0995          0.0485   \n",
              "2   F   0.530     0.420   0.135        0.6770          0.2565          0.1415   \n",
              "3   M   0.440     0.365   0.125        0.5160          0.2155          0.1140   \n",
              "4   I   0.330     0.255   0.080        0.2050          0.0895          0.0395   \n",
              "\n",
              "   Shell weight  Rings  \n",
              "0         0.150     15  \n",
              "1         0.070      7  \n",
              "2         0.210      9  \n",
              "3         0.155     10  \n",
              "4         0.055      7  "
            ],
            "text/html": [
              "\n",
              "  <div id=\"df-e3b7579b-1a99-4947-9b30-b7964b68e045\">\n",
              "    <div class=\"colab-df-container\">\n",
              "      <div>\n",
              "<style scoped>\n",
              "    .dataframe tbody tr th:only-of-type {\n",
              "        vertical-align: middle;\n",
              "    }\n",
              "\n",
              "    .dataframe tbody tr th {\n",
              "        vertical-align: top;\n",
              "    }\n",
              "\n",
              "    .dataframe thead th {\n",
              "        text-align: right;\n",
              "    }\n",
              "</style>\n",
              "<table border=\"1\" class=\"dataframe\">\n",
              "  <thead>\n",
              "    <tr style=\"text-align: right;\">\n",
              "      <th></th>\n",
              "      <th>Sex</th>\n",
              "      <th>Length</th>\n",
              "      <th>Diameter</th>\n",
              "      <th>Height</th>\n",
              "      <th>Whole weight</th>\n",
              "      <th>Shucked weight</th>\n",
              "      <th>Viscera weight</th>\n",
              "      <th>Shell weight</th>\n",
              "      <th>Rings</th>\n",
              "    </tr>\n",
              "  </thead>\n",
              "  <tbody>\n",
              "    <tr>\n",
              "      <th>0</th>\n",
              "      <td>M</td>\n",
              "      <td>0.455</td>\n",
              "      <td>0.365</td>\n",
              "      <td>0.095</td>\n",
              "      <td>0.5140</td>\n",
              "      <td>0.2245</td>\n",
              "      <td>0.1010</td>\n",
              "      <td>0.150</td>\n",
              "      <td>15</td>\n",
              "    </tr>\n",
              "    <tr>\n",
              "      <th>1</th>\n",
              "      <td>M</td>\n",
              "      <td>0.350</td>\n",
              "      <td>0.265</td>\n",
              "      <td>0.090</td>\n",
              "      <td>0.2255</td>\n",
              "      <td>0.0995</td>\n",
              "      <td>0.0485</td>\n",
              "      <td>0.070</td>\n",
              "      <td>7</td>\n",
              "    </tr>\n",
              "    <tr>\n",
              "      <th>2</th>\n",
              "      <td>F</td>\n",
              "      <td>0.530</td>\n",
              "      <td>0.420</td>\n",
              "      <td>0.135</td>\n",
              "      <td>0.6770</td>\n",
              "      <td>0.2565</td>\n",
              "      <td>0.1415</td>\n",
              "      <td>0.210</td>\n",
              "      <td>9</td>\n",
              "    </tr>\n",
              "    <tr>\n",
              "      <th>3</th>\n",
              "      <td>M</td>\n",
              "      <td>0.440</td>\n",
              "      <td>0.365</td>\n",
              "      <td>0.125</td>\n",
              "      <td>0.5160</td>\n",
              "      <td>0.2155</td>\n",
              "      <td>0.1140</td>\n",
              "      <td>0.155</td>\n",
              "      <td>10</td>\n",
              "    </tr>\n",
              "    <tr>\n",
              "      <th>4</th>\n",
              "      <td>I</td>\n",
              "      <td>0.330</td>\n",
              "      <td>0.255</td>\n",
              "      <td>0.080</td>\n",
              "      <td>0.2050</td>\n",
              "      <td>0.0895</td>\n",
              "      <td>0.0395</td>\n",
              "      <td>0.055</td>\n",
              "      <td>7</td>\n",
              "    </tr>\n",
              "  </tbody>\n",
              "</table>\n",
              "</div>\n",
              "      <button class=\"colab-df-convert\" onclick=\"convertToInteractive('df-e3b7579b-1a99-4947-9b30-b7964b68e045')\"\n",
              "              title=\"Convert this dataframe to an interactive table.\"\n",
              "              style=\"display:none;\">\n",
              "        \n",
              "  <svg xmlns=\"http://www.w3.org/2000/svg\" height=\"24px\"viewBox=\"0 0 24 24\"\n",
              "       width=\"24px\">\n",
              "    <path d=\"M0 0h24v24H0V0z\" fill=\"none\"/>\n",
              "    <path d=\"M18.56 5.44l.94 2.06.94-2.06 2.06-.94-2.06-.94-.94-2.06-.94 2.06-2.06.94zm-11 1L8.5 8.5l.94-2.06 2.06-.94-2.06-.94L8.5 2.5l-.94 2.06-2.06.94zm10 10l.94 2.06.94-2.06 2.06-.94-2.06-.94-.94-2.06-.94 2.06-2.06.94z\"/><path d=\"M17.41 7.96l-1.37-1.37c-.4-.4-.92-.59-1.43-.59-.52 0-1.04.2-1.43.59L10.3 9.45l-7.72 7.72c-.78.78-.78 2.05 0 2.83L4 21.41c.39.39.9.59 1.41.59.51 0 1.02-.2 1.41-.59l7.78-7.78 2.81-2.81c.8-.78.8-2.07 0-2.86zM5.41 20L4 18.59l7.72-7.72 1.47 1.35L5.41 20z\"/>\n",
              "  </svg>\n",
              "      </button>\n",
              "      \n",
              "  <style>\n",
              "    .colab-df-container {\n",
              "      display:flex;\n",
              "      flex-wrap:wrap;\n",
              "      gap: 12px;\n",
              "    }\n",
              "\n",
              "    .colab-df-convert {\n",
              "      background-color: #E8F0FE;\n",
              "      border: none;\n",
              "      border-radius: 50%;\n",
              "      cursor: pointer;\n",
              "      display: none;\n",
              "      fill: #1967D2;\n",
              "      height: 32px;\n",
              "      padding: 0 0 0 0;\n",
              "      width: 32px;\n",
              "    }\n",
              "\n",
              "    .colab-df-convert:hover {\n",
              "      background-color: #E2EBFA;\n",
              "      box-shadow: 0px 1px 2px rgba(60, 64, 67, 0.3), 0px 1px 3px 1px rgba(60, 64, 67, 0.15);\n",
              "      fill: #174EA6;\n",
              "    }\n",
              "\n",
              "    [theme=dark] .colab-df-convert {\n",
              "      background-color: #3B4455;\n",
              "      fill: #D2E3FC;\n",
              "    }\n",
              "\n",
              "    [theme=dark] .colab-df-convert:hover {\n",
              "      background-color: #434B5C;\n",
              "      box-shadow: 0px 1px 3px 1px rgba(0, 0, 0, 0.15);\n",
              "      filter: drop-shadow(0px 1px 2px rgba(0, 0, 0, 0.3));\n",
              "      fill: #FFFFFF;\n",
              "    }\n",
              "  </style>\n",
              "\n",
              "      <script>\n",
              "        const buttonEl =\n",
              "          document.querySelector('#df-e3b7579b-1a99-4947-9b30-b7964b68e045 button.colab-df-convert');\n",
              "        buttonEl.style.display =\n",
              "          google.colab.kernel.accessAllowed ? 'block' : 'none';\n",
              "\n",
              "        async function convertToInteractive(key) {\n",
              "          const element = document.querySelector('#df-e3b7579b-1a99-4947-9b30-b7964b68e045');\n",
              "          const dataTable =\n",
              "            await google.colab.kernel.invokeFunction('convertToInteractive',\n",
              "                                                     [key], {});\n",
              "          if (!dataTable) return;\n",
              "\n",
              "          const docLinkHtml = 'Like what you see? Visit the ' +\n",
              "            '<a target=\"_blank\" href=https://colab.research.google.com/notebooks/data_table.ipynb>data table notebook</a>'\n",
              "            + ' to learn more about interactive tables.';\n",
              "          element.innerHTML = '';\n",
              "          dataTable['output_type'] = 'display_data';\n",
              "          await google.colab.output.renderOutput(dataTable, element);\n",
              "          const docLink = document.createElement('div');\n",
              "          docLink.innerHTML = docLinkHtml;\n",
              "          element.appendChild(docLink);\n",
              "        }\n",
              "      </script>\n",
              "    </div>\n",
              "  </div>\n",
              "  "
            ]
          },
          "metadata": {},
          "execution_count": 3
        }
      ]
    },
    {
      "cell_type": "code",
      "source": [
        "df.dtypes"
      ],
      "metadata": {
        "colab": {
          "base_uri": "https://localhost:8080/"
        },
        "id": "xMXGJnGrK0Wn",
        "outputId": "3b5f287c-8e5e-447e-d478-d1283107baa3"
      },
      "execution_count": null,
      "outputs": [
        {
          "output_type": "execute_result",
          "data": {
            "text/plain": [
              "Sex                object\n",
              "Length            float64\n",
              "Diameter          float64\n",
              "Height            float64\n",
              "Whole weight      float64\n",
              "Shucked weight    float64\n",
              "Viscera weight    float64\n",
              "Shell weight      float64\n",
              "Rings               int64\n",
              "dtype: object"
            ]
          },
          "metadata": {},
          "execution_count": 4
        }
      ]
    },
    {
      "cell_type": "code",
      "source": [
        "df.isnull().sum()"
      ],
      "metadata": {
        "colab": {
          "base_uri": "https://localhost:8080/"
        },
        "id": "T5NsEF6O64Km",
        "outputId": "09487a29-269a-4267-aff8-8ff8121ac70a"
      },
      "execution_count": null,
      "outputs": [
        {
          "output_type": "execute_result",
          "data": {
            "text/plain": [
              "Sex               0\n",
              "Length            0\n",
              "Diameter          0\n",
              "Height            0\n",
              "Whole weight      0\n",
              "Shucked weight    0\n",
              "Viscera weight    0\n",
              "Shell weight      0\n",
              "Rings             0\n",
              "dtype: int64"
            ]
          },
          "metadata": {},
          "execution_count": 5
        }
      ]
    },
    {
      "cell_type": "code",
      "source": [
        " df.Sex.value_counts(dropna=False)"
      ],
      "metadata": {
        "colab": {
          "base_uri": "https://localhost:8080/"
        },
        "id": "vSbT62ot7d6n",
        "outputId": "ac6cf09e-3ab6-43b2-915f-b0b66a95c239"
      },
      "execution_count": null,
      "outputs": [
        {
          "output_type": "execute_result",
          "data": {
            "text/plain": [
              "M    1528\n",
              "I    1342\n",
              "F    1307\n",
              "Name: Sex, dtype: int64"
            ]
          },
          "metadata": {},
          "execution_count": 6
        }
      ]
    },
    {
      "cell_type": "code",
      "source": [
        "sex_dictionary = {'M': 1, 'F' : 2,'I':3}\n",
        "df['Sex'] = df['Sex'].apply(lambda x: sex_dictionary[x])"
      ],
      "metadata": {
        "id": "kSnRZmjwX7YI"
      },
      "execution_count": null,
      "outputs": []
    },
    {
      "cell_type": "code",
      "source": [
        "fig, ax = plt.subplots(figsize=(6, 6))\n",
        "pcv = Rank2D(features=df.columns, algorithm=\"pearson\")\n",
        "pcv.fit(df, df.Rings)\n",
        "pcv.transform(df)\n",
        "pcv.poof()"
      ],
      "metadata": {
        "colab": {
          "base_uri": "https://localhost:8080/",
          "height": 427
        },
        "id": "P7HDmadMma0s",
        "outputId": "96279a97-0dcb-4fc5-b462-025c649ee21d"
      },
      "execution_count": null,
      "outputs": [
        {
          "output_type": "display_data",
          "data": {
            "text/plain": [
              "<Figure size 432x432 with 2 Axes>"
            ],
            "image/png": "[encoded data removed]"
          },
          "metadata": {}
        },
        {
          "output_type": "execute_result",
          "data": {
            "text/plain": [
              "<matplotlib.axes._subplots.AxesSubplot at 0x7fee05d243a0>"
            ]
          },
          "metadata": {},
          "execution_count": 9
        }
      ]
    },
    {
      "cell_type": "code",
      "source": [
        "df.plot.box(figsize=(20,5), rot=90)"
      ],
      "metadata": {
        "colab": {
          "base_uri": "https://localhost:8080/",
          "height": 305
        },
        "id": "XAgaR7IaSG5D",
        "outputId": "057961fd-f703-4e72-c871-5913554051f5"
      },
      "execution_count": null,
      "outputs": [
        {
          "output_type": "execute_result",
          "data": {
            "text/plain": [
              "<matplotlib.axes._subplots.AxesSubplot at 0x7fee0574a4f0>"
            ]
          },
          "metadata": {},
          "execution_count": 10
        },
        {
          "output_type": "display_data",
          "data": {
            "text/plain": [
              "<Figure size 1440x360 with 1 Axes>"
            ],
            "image/png": "[encoded data removed]"
          },
          "metadata": {}
        }
      ]
    },
    {
      "cell_type": "markdown",
      "source": [
        "Rings 1-8 -->Age 1, denoting young\n",
        "\n",
        "Rings 9-10 -->Age 2, denoting middle\n",
        "\n",
        "Rings 11-29 -->Age 3, denoting old"
      ],
      "metadata": {
        "id": "SUeLBYmtP-VJ"
      }
    },
    {
      "cell_type": "code",
      "source": [
        "def calculate_age_category(row):\n",
        "   if row['Rings']>=1 and row['Rings']<=8:\n",
        "      return 1\n",
        "   elif row['Rings'] >=9 and row['Rings']<=10:\n",
        "      return 2\n",
        "   elif row['Rings']>=11 and row['Rings']<=29:\n",
        "      return 3\n",
        "   return 0"
      ],
      "metadata": {
        "id": "UfyiSHziXxbu"
      },
      "execution_count": null,
      "outputs": []
    },
    {
      "cell_type": "code",
      "source": [
        "df['Age_category']=df.apply (lambda row: calculate_age_category(row),axis=1)\n",
        "df.Sex = df.Sex.astype(float)"
      ],
      "metadata": {
        "id": "amFMAtFBYtMj"
      },
      "execution_count": null,
      "outputs": []
    },
    {
      "cell_type": "code",
      "source": [
        "ax = sns.boxplot(x=\"Sex\", y=\"Rings\", data=df)\n",
        "plt.show()"
      ],
      "metadata": {
        "colab": {
          "base_uri": "https://localhost:8080/",
          "height": 361
        },
        "id": "sIcD2TAKZG23",
        "outputId": "5da7b726-aed2-403a-c84a-ab2e5064bb2e"
      },
      "execution_count": null,
      "outputs": [
        {
          "output_type": "display_data",
          "data": {
            "text/plain": [
              "<Figure size 576x396 with 1 Axes>"
            ],
            "image/png": "[encoded data removed]"
          },
          "metadata": {}
        }
      ]
    },
    {
      "cell_type": "markdown",
      "source": [
        "Infants have lower number of rings as compared to males and females"
      ],
      "metadata": {
        "id": "eLR-QiMKcdFW"
      }
    },
    {
      "cell_type": "code",
      "source": [
        "sns.FacetGrid(df, hue=\"Age_category\") \\\n",
        "   .map(sns.kdeplot, \"Rings\") \\\n",
        "   .add_legend()\n",
        "  "
      ],
      "metadata": {
        "colab": {
          "base_uri": "https://localhost:8080/",
          "height": 238
        },
        "id": "wz7tlbVEZLvB",
        "outputId": "0da10a96-940d-4a15-ba08-d2ee12e4bbe6"
      },
      "execution_count": null,
      "outputs": [
        {
          "output_type": "execute_result",
          "data": {
            "text/plain": [
              "<seaborn.axisgrid.FacetGrid at 0x7fee0557ad60>"
            ]
          },
          "metadata": {},
          "execution_count": 14
        },
        {
          "output_type": "display_data",
          "data": {
            "text/plain": [
              "<Figure size 298x216 with 1 Axes>"
            ],
            "image/png": "[encoded data removed]"
          },
          "metadata": {}
        }
      ]
    },
    {
      "cell_type": "markdown",
      "source": [
        "Age labelled 1 are youth, label 2 are middle aged and 3 are old aged. Young abalones have 0-8 rings, Middle aged abalones have 9-10 rings and old abalones have more than 11 rings"
      ],
      "metadata": {
        "id": "KOLWo5Aoc0DL"
      }
    },
    {
      "cell_type": "code",
      "source": [
        "sns.FacetGrid(df, hue=\"Sex\") \\\n",
        "   .map(sns.kdeplot, \"Height\") \\\n",
        "   .add_legend()\n"
      ],
      "metadata": {
        "colab": {
          "base_uri": "https://localhost:8080/",
          "height": 234
        },
        "id": "RpZbNfC9ZR_n",
        "outputId": "c03604ed-27f2-4061-fdcf-5ebb8efd1eed"
      },
      "execution_count": null,
      "outputs": [
        {
          "output_type": "execute_result",
          "data": {
            "text/plain": [
              "<seaborn.axisgrid.FacetGrid at 0x7fee0554d640>"
            ]
          },
          "metadata": {},
          "execution_count": 15
        },
        {
          "output_type": "display_data",
          "data": {
            "text/plain": [
              "<Figure size 266x216 with 1 Axes>"
            ],
            "image/png": "[encoded data removed]"
          },
          "metadata": {}
        }
      ]
    },
    {
      "cell_type": "code",
      "source": [
        "def correlated_columns(df, threshold=0.95):\n",
        "  return (df.corr().pipe(\n",
        "      lambda df1: pd.DataFrame(\n",
        "            np.tril(df1, k=-1),\n",
        "            columns=df.columns,\n",
        "            index=df.columns,))\n",
        "  .stack()\n",
        "  .rename(\"pearson\")\n",
        "  .pipe(\n",
        "      lambda s: s[s.abs() > threshold].reset_index())\n",
        "  .query(\"level_0 not in level_1\"))"
      ],
      "metadata": {
        "id": "yLZwFHtpgQXM"
      },
      "execution_count": null,
      "outputs": []
    },
    {
      "cell_type": "code",
      "source": [
        "c_df = correlated_columns(df)\n",
        "c_df.style.format({\"pearson\": \"{:.2f}\"})"
      ],
      "metadata": {
        "colab": {
          "base_uri": "https://localhost:8080/",
          "height": 173
        },
        "id": "kJF2w8vygQaa",
        "outputId": "886f173e-f774-42a2-8ffa-fe73e4178530"
      },
      "execution_count": null,
      "outputs": [
        {
          "output_type": "execute_result",
          "data": {
            "text/plain": [
              "<pandas.io.formats.style.Styler at 0x7fee00c82910>"
            ],
            "text/html": [
              "<style type=\"text/css\">\n",
              "</style>\n",
              "<table id=\"T_b4426_\" class=\"dataframe\">\n",
              "  <thead>\n",
              "    <tr>\n",
              "      <th class=\"blank level0\" >&nbsp;</th>\n",
              "      <th class=\"col_heading level0 col0\" >level_0</th>\n",
              "      <th class=\"col_heading level0 col1\" >level_1</th>\n",
              "      <th class=\"col_heading level0 col2\" >pearson</th>\n",
              "    </tr>\n",
              "  </thead>\n",
              "  <tbody>\n",
              "    <tr>\n",
              "      <th id=\"T_b4426_level0_row0\" class=\"row_heading level0 row0\" >0</th>\n",
              "      <td id=\"T_b4426_row0_col0\" class=\"data row0 col0\" >Diameter</td>\n",
              "      <td id=\"T_b4426_row0_col1\" class=\"data row0 col1\" >Length</td>\n",
              "      <td id=\"T_b4426_row0_col2\" class=\"data row0 col2\" >0.99</td>\n",
              "    </tr>\n",
              "    <tr>\n",
              "      <th id=\"T_b4426_level0_row1\" class=\"row_heading level0 row1\" >1</th>\n",
              "      <td id=\"T_b4426_row1_col0\" class=\"data row1 col0\" >Shucked weight</td>\n",
              "      <td id=\"T_b4426_row1_col1\" class=\"data row1 col1\" >Whole weight</td>\n",
              "      <td id=\"T_b4426_row1_col2\" class=\"data row1 col2\" >0.97</td>\n",
              "    </tr>\n",
              "    <tr>\n",
              "      <th id=\"T_b4426_level0_row2\" class=\"row_heading level0 row2\" >2</th>\n",
              "      <td id=\"T_b4426_row2_col0\" class=\"data row2 col0\" >Viscera weight</td>\n",
              "      <td id=\"T_b4426_row2_col1\" class=\"data row2 col1\" >Whole weight</td>\n",
              "      <td id=\"T_b4426_row2_col2\" class=\"data row2 col2\" >0.97</td>\n",
              "    </tr>\n",
              "    <tr>\n",
              "      <th id=\"T_b4426_level0_row3\" class=\"row_heading level0 row3\" >3</th>\n",
              "      <td id=\"T_b4426_row3_col0\" class=\"data row3 col0\" >Shell weight</td>\n",
              "      <td id=\"T_b4426_row3_col1\" class=\"data row3 col1\" >Whole weight</td>\n",
              "      <td id=\"T_b4426_row3_col2\" class=\"data row3 col2\" >0.96</td>\n",
              "    </tr>\n",
              "  </tbody>\n",
              "</table>\n"
            ]
          },
          "metadata": {},
          "execution_count": 17
        }
      ]
    },
    {
      "cell_type": "markdown",
      "source": [
        "Remove overcorrelated features"
      ],
      "metadata": {
        "id": "ZeKzfOkEdFWz"
      }
    },
    {
      "cell_type": "code",
      "source": [
        "del df['Shucked weight']\n",
        "del df['Viscera weight']\n",
        "del df['Shell weight']\n",
        "del df['Length']"
      ],
      "metadata": {
        "id": "J7cWiAMfgQfn"
      },
      "execution_count": null,
      "outputs": []
    },
    {
      "cell_type": "code",
      "source": [
        "target = 'Age_category'\n",
        "using_columns = ['Sex', 'Diameter', 'Height', 'Whole weight', 'Age_category']"
      ],
      "metadata": {
        "id": "0IzRQN-uPV_j"
      },
      "execution_count": null,
      "outputs": []
    },
    {
      "cell_type": "markdown",
      "source": [
        "Because of data isn't normalize and have some outliners we will be use StandardScaler.\n"
      ],
      "metadata": {
        "id": "EYaBSR0GvQrk"
      }
    },
    {
      "cell_type": "code",
      "source": [
        "std = preprocessing.StandardScaler()"
      ],
      "metadata": {
        "id": "Q_vE3tf4mfiO"
      },
      "execution_count": null,
      "outputs": []
    },
    {
      "cell_type": "markdown",
      "source": [
        "Preparing df to scalling "
      ],
      "metadata": {
        "id": "YrWet_CHyKK3"
      }
    },
    {
      "cell_type": "code",
      "source": [
        "df = pd.DataFrame(std.fit_transform(df[using_columns]), columns = using_columns)"
      ],
      "metadata": {
        "id": "Sriga8wEmiUm"
      },
      "execution_count": null,
      "outputs": []
    },
    {
      "cell_type": "code",
      "source": [
        "X_full_train, X_test = train_test_split(df[using_columns], test_size=0.2, random_state=0)\n",
        "X_train, X_val = train_test_split(X_full_train, test_size=0.25, random_state=0)"
      ],
      "metadata": {
        "id": "OJ0OVsLuIMde"
      },
      "execution_count": null,
      "outputs": []
    },
    {
      "cell_type": "code",
      "source": [
        "X_train = X_train.reset_index(drop=True)\n",
        "X_val = X_val.reset_index(drop=True)\n",
        "X_test = X_test.reset_index(drop=True)"
      ],
      "metadata": {
        "id": "BUYLSGVNI72O"
      },
      "execution_count": null,
      "outputs": []
    },
    {
      "cell_type": "code",
      "source": [
        "y_train = X_train.Age_category\n",
        "y_val = X_val.Age_category\n",
        "y_test = X_test.Age_category\n",
        "\n",
        "del X_train['Age_category']\n",
        "del X_val['Age_category']\n",
        "del X_test['Age_category']"
      ],
      "metadata": {
        "id": "t1DKF4FkI79w"
      },
      "execution_count": null,
      "outputs": []
    },
    {
      "cell_type": "code",
      "source": [
        "y_train = y_train.astype(int)\n",
        "y_val = y_val.astype(int)\n",
        "y_test = y_test.astype(int)"
      ],
      "metadata": {
        "id": "EWCy32KbWLj9"
      },
      "execution_count": null,
      "outputs": []
    },
    {
      "cell_type": "code",
      "source": [
        "classifier = KNeighborsClassifier(n_neighbors =5, metric = 'minkowski', p = 2)\n",
        "classifier.fit(X_train, y_train)\n",
        "y_pred = classifier.predict(X_val)\n",
        "    \n",
        "f1_score(y_val, y_pred, average='micro')"
      ],
      "metadata": {
        "colab": {
          "base_uri": "https://localhost:8080/"
        },
        "id": "F_2Iqs4VWZym",
        "outputId": "5d787178-6f7e-48aa-cff8-d6559d2d9db2"
      },
      "execution_count": null,
      "outputs": [
        {
          "output_type": "execute_result",
          "data": {
            "text/plain": [
              "0.5478468899521531"
            ]
          },
          "metadata": {},
          "execution_count": 26
        }
      ]
    },
    {
      "cell_type": "code",
      "source": [
        "k_range = list(range(1, 31))\n",
        "param_grid = dict(n_neighbors=k_range, weights=['uniform', 'distance'], algorithm=['auto', 'ball_tree', 'kd_tree', 'brute'])"
      ],
      "metadata": {
        "id": "gBMDLa2Wrwht"
      },
      "execution_count": null,
      "outputs": []
    },
    {
      "cell_type": "code",
      "source": [
        "knn = KNeighborsClassifier()"
      ],
      "metadata": {
        "id": "xqcbbMXqsAY-"
      },
      "execution_count": null,
      "outputs": []
    },
    {
      "cell_type": "code",
      "source": [
        "grid = GridSearchCV(knn, param_grid, cv=3, scoring='f1_micro', return_train_score=False,verbose=1)"
      ],
      "metadata": {
        "id": "dGRNgymlrzT6"
      },
      "execution_count": null,
      "outputs": []
    },
    {
      "cell_type": "code",
      "source": [
        "grid_search=grid.fit(X_train, y_train)"
      ],
      "metadata": {
        "colab": {
          "base_uri": "https://localhost:8080/"
        },
        "id": "F1iJZ6U2rzbc",
        "outputId": "68fc8237-3a50-4b88-89f9-2efd7dec78e8"
      },
      "execution_count": null,
      "outputs": [
        {
          "output_type": "stream",
          "name": "stdout",
          "text": [
            "Fitting 3 folds for each of 240 candidates, totalling 720 fits\n"
          ]
        }
      ]
    },
    {
      "cell_type": "code",
      "source": [
        "print(grid_search.best_params_, grid_search.best_score_)"
      ],
      "metadata": {
        "colab": {
          "base_uri": "https://localhost:8080/"
        },
        "id": "bMPZQpaorzhU",
        "outputId": "038d6677-0ff2-4b7b-d8a9-82d2520735d4"
      },
      "execution_count": null,
      "outputs": [
        {
          "output_type": "stream",
          "name": "stdout",
          "text": [
            "{'algorithm': 'auto', 'n_neighbors': 29, 'weights': 'uniform'} 0.5892215568862276\n"
          ]
        }
      ]
    },
    {
      "cell_type": "code",
      "source": [
        "y_val_predicted=grid_search.predict(X_val) \n",
        "\n",
        "val_f1=f1_score(y_val,y_val_predicted, average='micro')*100\n",
        "\n",
        "print(\"F1_score for validation dataset with tuning is : {:.2f}%\".format(val_f1) )"
      ],
      "metadata": {
        "colab": {
          "base_uri": "https://localhost:8080/"
        },
        "id": "jG2u-MSHswXo",
        "outputId": "30ab631d-3ca6-4aae-b10c-0926329ad181"
      },
      "execution_count": null,
      "outputs": [
        {
          "output_type": "stream",
          "name": "stdout",
          "text": [
            "F1_score for validation dataset with tuning is : 58.61%\n"
          ]
        }
      ]
    },
    {
      "cell_type": "code",
      "source": [
        "knn = KNeighborsClassifier(algorithm='auto',n_neighbors=29, weights='uniform')\n",
        "\n",
        "knn.fit(X_train, y_train)\n",
        "\n",
        "y_test_predicted=knn.predict(X_test) \n",
        "\n",
        "test_f1=f1_score(y_test,y_test_predicted, average='micro')*100\n",
        "\n",
        "print(\"F1_score for test dataset with tuning is : {:.2f}%\".format(test_f1) )"
      ],
      "metadata": {
        "colab": {
          "base_uri": "https://localhost:8080/"
        },
        "id": "JYT3Z9OJtsto",
        "outputId": "9804d5be-9ac0-4c6f-c84f-6532b42b146c"
      },
      "execution_count": null,
      "outputs": [
        {
          "output_type": "stream",
          "name": "stdout",
          "text": [
            "F1_score for test dataset with tuning is : 61.36%\n"
          ]
        }
      ]
    },
    {
      "cell_type": "code",
      "source": [
        "confusion_matrix(y_test, y_test_predicted)"
      ],
      "metadata": {
        "colab": {
          "base_uri": "https://localhost:8080/"
        },
        "id": "6n5jPfPn2dPv",
        "outputId": "f6b7c97e-a021-45b0-ddbc-4e0a2354ae0f"
      },
      "execution_count": null,
      "outputs": [
        {
          "output_type": "execute_result",
          "data": {
            "text/plain": [
              "array([[232,  54,  21],\n",
              "       [ 44, 116,  74],\n",
              "       [ 28, 102, 165]])"
            ]
          },
          "metadata": {},
          "execution_count": 34
        }
      ]
    },
    {
      "cell_type": "code",
      "source": [
        "knn.score(X_test, y_test)"
      ],
      "metadata": {
        "colab": {
          "base_uri": "https://localhost:8080/"
        },
        "id": "hn2pj542Le3S",
        "outputId": "c7c8e36c-2d6c-4ea6-9639-65f9cb712254"
      },
      "execution_count": null,
      "outputs": [
        {
          "output_type": "execute_result",
          "data": {
            "text/plain": [
              "0.6136363636363636"
            ]
          },
          "metadata": {},
          "execution_count": 35
        }
      ]
    },
    {
      "cell_type": "markdown",
      "source": [
        "Applying LogisticRegression"
      ],
      "metadata": {
        "id": "oXLvFnzpfocx"
      }
    },
    {
      "cell_type": "code",
      "source": [
        "C_array = [0.0001,0.001,0.01,0.1,1,10,100,1000,10000]\n",
        "tuning_C = {\"C\": C_array}"
      ],
      "metadata": {
        "id": "k4sG1yLXe7M5"
      },
      "execution_count": null,
      "outputs": []
    },
    {
      "cell_type": "code",
      "source": [
        "clf_gs =  LogisticRegression(max_iter= 1000000)\n",
        "from sklearn.model_selection import GridSearchCV\n",
        "gs = GridSearchCV(estimator= clf_gs, param_grid =tuning_C, scoring = 'f1_micro', cv = 2)\n",
        "gs.fit(X_train, y_train)"
      ],
      "metadata": {
        "colab": {
          "base_uri": "https://localhost:8080/"
        },
        "id": "Ich2-bX2e-tW",
        "outputId": "ce01e7a5-5e9f-4af5-9068-8d011e960af9"
      },
      "execution_count": null,
      "outputs": [
        {
          "output_type": "execute_result",
          "data": {
            "text/plain": [
              "GridSearchCV(cv=2, estimator=LogisticRegression(max_iter=1000000),\n",
              "             param_grid={'C': [0.0001, 0.001, 0.01, 0.1, 1, 10, 100, 1000,\n",
              "                               10000]},\n",
              "             scoring='f1_micro')"
            ]
          },
          "metadata": {},
          "execution_count": 38
        }
      ]
    },
    {
      "cell_type": "code",
      "source": [
        "# Optimal C value and the score corresponding to it\n",
        "print(gs.best_params_, gs.best_score_)"
      ],
      "metadata": {
        "colab": {
          "base_uri": "https://localhost:8080/"
        },
        "id": "NZzbavmdfBhq",
        "outputId": "f5ab8aae-c680-471c-c37e-d994d50f827f"
      },
      "execution_count": null,
      "outputs": [
        {
          "output_type": "stream",
          "name": "stdout",
          "text": [
            "{'C': 10} 0.5720612383315187\n"
          ]
        }
      ]
    },
    {
      "cell_type": "code",
      "source": [
        "#logistic regression\n",
        "log_reg = LogisticRegression(C = gs.best_params_[\"C\"], multi_class='multinomial',solver ='newton-cg')\n",
        "log_reg.fit(X_train, y_train)\n",
        "y_pred=log_reg.predict(X_test) \n",
        "\n",
        "\n",
        "#calculate Confusion Matrix\n",
        "print(\"Confusion Matrix\")\n",
        "confusion_matrix(y_test, y_pred)\n",
        "    \n",
        "print(\"Accuracy of Logistic Regression is:{:.2f}%\".format(accuracy_score(y_test, y_pred)*100))\n",
        "\n",
        "\n",
        "#Mean Absolute Error \n",
        "mae=mean_absolute_error(y_test,y_pred);\n",
        "print(\"MAE:\"+str(mae))"
      ],
      "metadata": {
        "colab": {
          "base_uri": "https://localhost:8080/"
        },
        "id": "gmoCD0OIfcan",
        "outputId": "b75410d3-e59e-4e17-b503-79841613fdce"
      },
      "execution_count": null,
      "outputs": [
        {
          "output_type": "stream",
          "name": "stdout",
          "text": [
            "Confusion Matrix\n",
            "Accuracy of Logistic Regression is:61.60%\n",
            "MAE:0.4342105263157895\n"
          ]
        }
      ]
    }
  ]
}