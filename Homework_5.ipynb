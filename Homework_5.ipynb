{
  "nbformat": 4,
  "nbformat_minor": 0,
  "metadata": {
    "colab": {
      "provenance": [],
      "authorship_tag": "ABX9TyNRtzuwP1+ROLwaQcu4ahwk",
      "include_colab_link": true
    },
    "kernelspec": {
      "name": "python3",
      "display_name": "Python 3"
    },
    "language_info": {
      "name": "python"
    }
  },
  "cells": [
    {
      "cell_type": "markdown",
      "metadata": {
        "id": "view-in-github",
        "colab_type": "text"
      },
      "source": [
        "<a href=\"https://colab.research.google.com/github/Rok-sana/ML-course/blob/main/Homework_5.ipynb\" target=\"_parent\"><img src=\"https://colab.research.google.com/assets/colab-badge.svg\" alt=\"Open In Colab\"/></a>"
      ]
    },
    {
      "cell_type": "code",
      "execution_count": null,
      "metadata": {
        "id": "WctycT-xSSd5"
      },
      "outputs": [],
      "source": [
        "import numpy as np\n",
        "import pandas as pd\n",
        "import scipy\n",
        "from scipy import stats \n",
        "import seaborn as sns\n",
        "import matplotlib.pyplot as plt\n",
        "from sklearn.metrics import (mean_absolute_error,\n",
        "                             mean_squared_error,\n",
        "                             roc_auc_score,\n",
        "                             r2_score,\n",
        "                             accuracy_score,\n",
        "                             confusion_matrix,\n",
        "                             mutual_info_score,\n",
        "                             f1_score)\n",
        "\n",
        "from sklearn.model_selection import (train_test_split,\n",
        "                                     KFold,\n",
        "                                     cross_val_score,\n",
        "                                     GridSearchCV)\n",
        "\n",
        "from sklearn import preprocessing\n",
        "from sklearn.preprocessing import(MinMaxScaler,\n",
        "                                  StandardScaler)\n",
        "\n",
        "from sklearn.linear_model import (LogisticRegression,\n",
        "                                  LogisticRegressionCV,\n",
        "                                  LinearRegression)\n",
        "                                  \n",
        "\n",
        "import pandas_profiling\n",
        "from yellowbrick.features import Rank2D\n",
        "from sklearn.pipeline import make_pipeline\n",
        "%matplotlib inline"
      ]
    },
    {
      "cell_type": "code",
      "source": [
        "wine_red_df = pd.read_csv(\"winequality-red.csv\", sep=';', skipinitialspace=True)\n",
        "wine_white_df = pd.read_csv(\"winequality-white.csv\",sep=';', skipinitialspace=True)"
      ],
      "metadata": {
        "id": "L6IrBfFtSqUL"
      },
      "execution_count": null,
      "outputs": []
    },
    {
      "cell_type": "code",
      "source": [
        "wine_red_df.head()"
      ],
      "metadata": {
        "colab": {
          "base_uri": "https://localhost:8080/",
          "height": 265
        },
        "id": "P3wMx2uhT2hw",
        "outputId": "f32fca14-54b5-49b8-ff51-15efaf9053c7"
      },
      "execution_count": null,
      "outputs": [
        {
          "output_type": "execute_result",
          "data": {
            "text/plain": [
              "   fixed acidity  volatile acidity  citric acid  residual sugar  chlorides  \\\n",
              "0            7.4              0.70         0.00             1.9      0.076   \n",
              "1            7.8              0.88         0.00             2.6      0.098   \n",
              "2            7.8              0.76         0.04             2.3      0.092   \n",
              "3           11.2              0.28         0.56             1.9      0.075   \n",
              "4            7.4              0.70         0.00             1.9      0.076   \n",
              "\n",
              "   free sulfur dioxide  total sulfur dioxide  density    pH  sulphates  \\\n",
              "0                 11.0                  34.0   0.9978  3.51       0.56   \n",
              "1                 25.0                  67.0   0.9968  3.20       0.68   \n",
              "2                 15.0                  54.0   0.9970  3.26       0.65   \n",
              "3                 17.0                  60.0   0.9980  3.16       0.58   \n",
              "4                 11.0                  34.0   0.9978  3.51       0.56   \n",
              "\n",
              "   alcohol  quality  \n",
              "0      9.4        5  \n",
              "1      9.8        5  \n",
              "2      9.8        5  \n",
              "3      9.8        6  \n",
              "4      9.4        5  "
            ],
            "text/html": [
              "\n",
              "  <div id=\"df-677b8709-735b-4cc1-96c5-e706cd3c2ec4\">\n",
              "    <div class=\"colab-df-container\">\n",
              "      <div>\n",
              "<style scoped>\n",
              "    .dataframe tbody tr th:only-of-type {\n",
              "        vertical-align: middle;\n",
              "    }\n",
              "\n",
              "    .dataframe tbody tr th {\n",
              "        vertical-align: top;\n",
              "    }\n",
              "\n",
              "    .dataframe thead th {\n",
              "        text-align: right;\n",
              "    }\n",
              "</style>\n",
              "<table border=\"1\" class=\"dataframe\">\n",
              "  <thead>\n",
              "    <tr style=\"text-align: right;\">\n",
              "      <th></th>\n",
              "      <th>fixed acidity</th>\n",
              "      <th>volatile acidity</th>\n",
              "      <th>citric acid</th>\n",
              "      <th>residual sugar</th>\n",
              "      <th>chlorides</th>\n",
              "      <th>free sulfur dioxide</th>\n",
              "      <th>total sulfur dioxide</th>\n",
              "      <th>density</th>\n",
              "      <th>pH</th>\n",
              "      <th>sulphates</th>\n",
              "      <th>alcohol</th>\n",
              "      <th>quality</th>\n",
              "    </tr>\n",
              "  </thead>\n",
              "  <tbody>\n",
              "    <tr>\n",
              "      <th>0</th>\n",
              "      <td>7.4</td>\n",
              "      <td>0.70</td>\n",
              "      <td>0.00</td>\n",
              "      <td>1.9</td>\n",
              "      <td>0.076</td>\n",
              "      <td>11.0</td>\n",
              "      <td>34.0</td>\n",
              "      <td>0.9978</td>\n",
              "      <td>3.51</td>\n",
              "      <td>0.56</td>\n",
              "      <td>9.4</td>\n",
              "      <td>5</td>\n",
              "    </tr>\n",
              "    <tr>\n",
              "      <th>1</th>\n",
              "      <td>7.8</td>\n",
              "      <td>0.88</td>\n",
              "      <td>0.00</td>\n",
              "      <td>2.6</td>\n",
              "      <td>0.098</td>\n",
              "      <td>25.0</td>\n",
              "      <td>67.0</td>\n",
              "      <td>0.9968</td>\n",
              "      <td>3.20</td>\n",
              "      <td>0.68</td>\n",
              "      <td>9.8</td>\n",
              "      <td>5</td>\n",
              "    </tr>\n",
              "    <tr>\n",
              "      <th>2</th>\n",
              "      <td>7.8</td>\n",
              "      <td>0.76</td>\n",
              "      <td>0.04</td>\n",
              "      <td>2.3</td>\n",
              "      <td>0.092</td>\n",
              "      <td>15.0</td>\n",
              "      <td>54.0</td>\n",
              "      <td>0.9970</td>\n",
              "      <td>3.26</td>\n",
              "      <td>0.65</td>\n",
              "      <td>9.8</td>\n",
              "      <td>5</td>\n",
              "    </tr>\n",
              "    <tr>\n",
              "      <th>3</th>\n",
              "      <td>11.2</td>\n",
              "      <td>0.28</td>\n",
              "      <td>0.56</td>\n",
              "      <td>1.9</td>\n",
              "      <td>0.075</td>\n",
              "      <td>17.0</td>\n",
              "      <td>60.0</td>\n",
              "      <td>0.9980</td>\n",
              "      <td>3.16</td>\n",
              "      <td>0.58</td>\n",
              "      <td>9.8</td>\n",
              "      <td>6</td>\n",
              "    </tr>\n",
              "    <tr>\n",
              "      <th>4</th>\n",
              "      <td>7.4</td>\n",
              "      <td>0.70</td>\n",
              "      <td>0.00</td>\n",
              "      <td>1.9</td>\n",
              "      <td>0.076</td>\n",
              "      <td>11.0</td>\n",
              "      <td>34.0</td>\n",
              "      <td>0.9978</td>\n",
              "      <td>3.51</td>\n",
              "      <td>0.56</td>\n",
              "      <td>9.4</td>\n",
              "      <td>5</td>\n",
              "    </tr>\n",
              "  </tbody>\n",
              "</table>\n",
              "</div>\n",
              "      <button class=\"colab-df-convert\" onclick=\"convertToInteractive('df-677b8709-735b-4cc1-96c5-e706cd3c2ec4')\"\n",
              "              title=\"Convert this dataframe to an interactive table.\"\n",
              "              style=\"display:none;\">\n",
              "        \n",
              "  <svg xmlns=\"http://www.w3.org/2000/svg\" height=\"24px\"viewBox=\"0 0 24 24\"\n",
              "       width=\"24px\">\n",
              "    <path d=\"M0 0h24v24H0V0z\" fill=\"none\"/>\n",
              "    <path d=\"M18.56 5.44l.94 2.06.94-2.06 2.06-.94-2.06-.94-.94-2.06-.94 2.06-2.06.94zm-11 1L8.5 8.5l.94-2.06 2.06-.94-2.06-.94L8.5 2.5l-.94 2.06-2.06.94zm10 10l.94 2.06.94-2.06 2.06-.94-2.06-.94-.94-2.06-.94 2.06-2.06.94z\"/><path d=\"M17.41 7.96l-1.37-1.37c-.4-.4-.92-.59-1.43-.59-.52 0-1.04.2-1.43.59L10.3 9.45l-7.72 7.72c-.78.78-.78 2.05 0 2.83L4 21.41c.39.39.9.59 1.41.59.51 0 1.02-.2 1.41-.59l7.78-7.78 2.81-2.81c.8-.78.8-2.07 0-2.86zM5.41 20L4 18.59l7.72-7.72 1.47 1.35L5.41 20z\"/>\n",
              "  </svg>\n",
              "      </button>\n",
              "      \n",
              "  <style>\n",
              "    .colab-df-container {\n",
              "      display:flex;\n",
              "      flex-wrap:wrap;\n",
              "      gap: 12px;\n",
              "    }\n",
              "\n",
              "    .colab-df-convert {\n",
              "      background-color: #E8F0FE;\n",
              "      border: none;\n",
              "      border-radius: 50%;\n",
              "      cursor: pointer;\n",
              "      display: none;\n",
              "      fill: #1967D2;\n",
              "      height: 32px;\n",
              "      padding: 0 0 0 0;\n",
              "      width: 32px;\n",
              "    }\n",
              "\n",
              "    .colab-df-convert:hover {\n",
              "      background-color: #E2EBFA;\n",
              "      box-shadow: 0px 1px 2px rgba(60, 64, 67, 0.3), 0px 1px 3px 1px rgba(60, 64, 67, 0.15);\n",
              "      fill: #174EA6;\n",
              "    }\n",
              "\n",
              "    [theme=dark] .colab-df-convert {\n",
              "      background-color: #3B4455;\n",
              "      fill: #D2E3FC;\n",
              "    }\n",
              "\n",
              "    [theme=dark] .colab-df-convert:hover {\n",
              "      background-color: #434B5C;\n",
              "      box-shadow: 0px 1px 3px 1px rgba(0, 0, 0, 0.15);\n",
              "      filter: drop-shadow(0px 1px 2px rgba(0, 0, 0, 0.3));\n",
              "      fill: #FFFFFF;\n",
              "    }\n",
              "  </style>\n",
              "\n",
              "      <script>\n",
              "        const buttonEl =\n",
              "          document.querySelector('#df-677b8709-735b-4cc1-96c5-e706cd3c2ec4 button.colab-df-convert');\n",
              "        buttonEl.style.display =\n",
              "          google.colab.kernel.accessAllowed ? 'block' : 'none';\n",
              "\n",
              "        async function convertToInteractive(key) {\n",
              "          const element = document.querySelector('#df-677b8709-735b-4cc1-96c5-e706cd3c2ec4');\n",
              "          const dataTable =\n",
              "            await google.colab.kernel.invokeFunction('convertToInteractive',\n",
              "                                                     [key], {});\n",
              "          if (!dataTable) return;\n",
              "\n",
              "          const docLinkHtml = 'Like what you see? Visit the ' +\n",
              "            '<a target=\"_blank\" href=https://colab.research.google.com/notebooks/data_table.ipynb>data table notebook</a>'\n",
              "            + ' to learn more about interactive tables.';\n",
              "          element.innerHTML = '';\n",
              "          dataTable['output_type'] = 'display_data';\n",
              "          await google.colab.output.renderOutput(dataTable, element);\n",
              "          const docLink = document.createElement('div');\n",
              "          docLink.innerHTML = docLinkHtml;\n",
              "          element.appendChild(docLink);\n",
              "        }\n",
              "      </script>\n",
              "    </div>\n",
              "  </div>\n",
              "  "
            ]
          },
          "metadata": {},
          "execution_count": 3
        }
      ]
    },
    {
      "cell_type": "code",
      "source": [
        "wine_white_df.head()"
      ],
      "metadata": {
        "colab": {
          "base_uri": "https://localhost:8080/",
          "height": 265
        },
        "id": "Y7GLJqEnT47M",
        "outputId": "d5744030-1f5c-44fb-ac3a-e40a820499d8"
      },
      "execution_count": null,
      "outputs": [
        {
          "output_type": "execute_result",
          "data": {
            "text/plain": [
              "   fixed acidity  volatile acidity  citric acid  residual sugar  chlorides  \\\n",
              "0            7.0              0.27         0.36            20.7      0.045   \n",
              "1            6.3              0.30         0.34             1.6      0.049   \n",
              "2            8.1              0.28         0.40             6.9      0.050   \n",
              "3            7.2              0.23         0.32             8.5      0.058   \n",
              "4            7.2              0.23         0.32             8.5      0.058   \n",
              "\n",
              "   free sulfur dioxide  total sulfur dioxide  density    pH  sulphates  \\\n",
              "0                 45.0                 170.0   1.0010  3.00       0.45   \n",
              "1                 14.0                 132.0   0.9940  3.30       0.49   \n",
              "2                 30.0                  97.0   0.9951  3.26       0.44   \n",
              "3                 47.0                 186.0   0.9956  3.19       0.40   \n",
              "4                 47.0                 186.0   0.9956  3.19       0.40   \n",
              "\n",
              "   alcohol  quality  \n",
              "0      8.8        6  \n",
              "1      9.5        6  \n",
              "2     10.1        6  \n",
              "3      9.9        6  \n",
              "4      9.9        6  "
            ],
            "text/html": [
              "\n",
              "  <div id=\"df-129090f2-b4ce-4879-8910-d8103ed3f8fb\">\n",
              "    <div class=\"colab-df-container\">\n",
              "      <div>\n",
              "<style scoped>\n",
              "    .dataframe tbody tr th:only-of-type {\n",
              "        vertical-align: middle;\n",
              "    }\n",
              "\n",
              "    .dataframe tbody tr th {\n",
              "        vertical-align: top;\n",
              "    }\n",
              "\n",
              "    .dataframe thead th {\n",
              "        text-align: right;\n",
              "    }\n",
              "</style>\n",
              "<table border=\"1\" class=\"dataframe\">\n",
              "  <thead>\n",
              "    <tr style=\"text-align: right;\">\n",
              "      <th></th>\n",
              "      <th>fixed acidity</th>\n",
              "      <th>volatile acidity</th>\n",
              "      <th>citric acid</th>\n",
              "      <th>residual sugar</th>\n",
              "      <th>chlorides</th>\n",
              "      <th>free sulfur dioxide</th>\n",
              "      <th>total sulfur dioxide</th>\n",
              "      <th>density</th>\n",
              "      <th>pH</th>\n",
              "      <th>sulphates</th>\n",
              "      <th>alcohol</th>\n",
              "      <th>quality</th>\n",
              "    </tr>\n",
              "  </thead>\n",
              "  <tbody>\n",
              "    <tr>\n",
              "      <th>0</th>\n",
              "      <td>7.0</td>\n",
              "      <td>0.27</td>\n",
              "      <td>0.36</td>\n",
              "      <td>20.7</td>\n",
              "      <td>0.045</td>\n",
              "      <td>45.0</td>\n",
              "      <td>170.0</td>\n",
              "      <td>1.0010</td>\n",
              "      <td>3.00</td>\n",
              "      <td>0.45</td>\n",
              "      <td>8.8</td>\n",
              "      <td>6</td>\n",
              "    </tr>\n",
              "    <tr>\n",
              "      <th>1</th>\n",
              "      <td>6.3</td>\n",
              "      <td>0.30</td>\n",
              "      <td>0.34</td>\n",
              "      <td>1.6</td>\n",
              "      <td>0.049</td>\n",
              "      <td>14.0</td>\n",
              "      <td>132.0</td>\n",
              "      <td>0.9940</td>\n",
              "      <td>3.30</td>\n",
              "      <td>0.49</td>\n",
              "      <td>9.5</td>\n",
              "      <td>6</td>\n",
              "    </tr>\n",
              "    <tr>\n",
              "      <th>2</th>\n",
              "      <td>8.1</td>\n",
              "      <td>0.28</td>\n",
              "      <td>0.40</td>\n",
              "      <td>6.9</td>\n",
              "      <td>0.050</td>\n",
              "      <td>30.0</td>\n",
              "      <td>97.0</td>\n",
              "      <td>0.9951</td>\n",
              "      <td>3.26</td>\n",
              "      <td>0.44</td>\n",
              "      <td>10.1</td>\n",
              "      <td>6</td>\n",
              "    </tr>\n",
              "    <tr>\n",
              "      <th>3</th>\n",
              "      <td>7.2</td>\n",
              "      <td>0.23</td>\n",
              "      <td>0.32</td>\n",
              "      <td>8.5</td>\n",
              "      <td>0.058</td>\n",
              "      <td>47.0</td>\n",
              "      <td>186.0</td>\n",
              "      <td>0.9956</td>\n",
              "      <td>3.19</td>\n",
              "      <td>0.40</td>\n",
              "      <td>9.9</td>\n",
              "      <td>6</td>\n",
              "    </tr>\n",
              "    <tr>\n",
              "      <th>4</th>\n",
              "      <td>7.2</td>\n",
              "      <td>0.23</td>\n",
              "      <td>0.32</td>\n",
              "      <td>8.5</td>\n",
              "      <td>0.058</td>\n",
              "      <td>47.0</td>\n",
              "      <td>186.0</td>\n",
              "      <td>0.9956</td>\n",
              "      <td>3.19</td>\n",
              "      <td>0.40</td>\n",
              "      <td>9.9</td>\n",
              "      <td>6</td>\n",
              "    </tr>\n",
              "  </tbody>\n",
              "</table>\n",
              "</div>\n",
              "      <button class=\"colab-df-convert\" onclick=\"convertToInteractive('df-129090f2-b4ce-4879-8910-d8103ed3f8fb')\"\n",
              "              title=\"Convert this dataframe to an interactive table.\"\n",
              "              style=\"display:none;\">\n",
              "        \n",
              "  <svg xmlns=\"http://www.w3.org/2000/svg\" height=\"24px\"viewBox=\"0 0 24 24\"\n",
              "       width=\"24px\">\n",
              "    <path d=\"M0 0h24v24H0V0z\" fill=\"none\"/>\n",
              "    <path d=\"M18.56 5.44l.94 2.06.94-2.06 2.06-.94-2.06-.94-.94-2.06-.94 2.06-2.06.94zm-11 1L8.5 8.5l.94-2.06 2.06-.94-2.06-.94L8.5 2.5l-.94 2.06-2.06.94zm10 10l.94 2.06.94-2.06 2.06-.94-2.06-.94-.94-2.06-.94 2.06-2.06.94z\"/><path d=\"M17.41 7.96l-1.37-1.37c-.4-.4-.92-.59-1.43-.59-.52 0-1.04.2-1.43.59L10.3 9.45l-7.72 7.72c-.78.78-.78 2.05 0 2.83L4 21.41c.39.39.9.59 1.41.59.51 0 1.02-.2 1.41-.59l7.78-7.78 2.81-2.81c.8-.78.8-2.07 0-2.86zM5.41 20L4 18.59l7.72-7.72 1.47 1.35L5.41 20z\"/>\n",
              "  </svg>\n",
              "      </button>\n",
              "      \n",
              "  <style>\n",
              "    .colab-df-container {\n",
              "      display:flex;\n",
              "      flex-wrap:wrap;\n",
              "      gap: 12px;\n",
              "    }\n",
              "\n",
              "    .colab-df-convert {\n",
              "      background-color: #E8F0FE;\n",
              "      border: none;\n",
              "      border-radius: 50%;\n",
              "      cursor: pointer;\n",
              "      display: none;\n",
              "      fill: #1967D2;\n",
              "      height: 32px;\n",
              "      padding: 0 0 0 0;\n",
              "      width: 32px;\n",
              "    }\n",
              "\n",
              "    .colab-df-convert:hover {\n",
              "      background-color: #E2EBFA;\n",
              "      box-shadow: 0px 1px 2px rgba(60, 64, 67, 0.3), 0px 1px 3px 1px rgba(60, 64, 67, 0.15);\n",
              "      fill: #174EA6;\n",
              "    }\n",
              "\n",
              "    [theme=dark] .colab-df-convert {\n",
              "      background-color: #3B4455;\n",
              "      fill: #D2E3FC;\n",
              "    }\n",
              "\n",
              "    [theme=dark] .colab-df-convert:hover {\n",
              "      background-color: #434B5C;\n",
              "      box-shadow: 0px 1px 3px 1px rgba(0, 0, 0, 0.15);\n",
              "      filter: drop-shadow(0px 1px 2px rgba(0, 0, 0, 0.3));\n",
              "      fill: #FFFFFF;\n",
              "    }\n",
              "  </style>\n",
              "\n",
              "      <script>\n",
              "        const buttonEl =\n",
              "          document.querySelector('#df-129090f2-b4ce-4879-8910-d8103ed3f8fb button.colab-df-convert');\n",
              "        buttonEl.style.display =\n",
              "          google.colab.kernel.accessAllowed ? 'block' : 'none';\n",
              "\n",
              "        async function convertToInteractive(key) {\n",
              "          const element = document.querySelector('#df-129090f2-b4ce-4879-8910-d8103ed3f8fb');\n",
              "          const dataTable =\n",
              "            await google.colab.kernel.invokeFunction('convertToInteractive',\n",
              "                                                     [key], {});\n",
              "          if (!dataTable) return;\n",
              "\n",
              "          const docLinkHtml = 'Like what you see? Visit the ' +\n",
              "            '<a target=\"_blank\" href=https://colab.research.google.com/notebooks/data_table.ipynb>data table notebook</a>'\n",
              "            + ' to learn more about interactive tables.';\n",
              "          element.innerHTML = '';\n",
              "          dataTable['output_type'] = 'display_data';\n",
              "          await google.colab.output.renderOutput(dataTable, element);\n",
              "          const docLink = document.createElement('div');\n",
              "          docLink.innerHTML = docLinkHtml;\n",
              "          element.appendChild(docLink);\n",
              "        }\n",
              "      </script>\n",
              "    </div>\n",
              "  </div>\n",
              "  "
            ]
          },
          "metadata": {},
          "execution_count": 4
        }
      ]
    },
    {
      "cell_type": "code",
      "source": [
        "df = pd.concat([wine_red_df, wine_white_df.reindex(columns = wine_red_df.columns)], ignore_index = True)\n",
        "df.dtypes"
      ],
      "metadata": {
        "colab": {
          "base_uri": "https://localhost:8080/"
        },
        "id": "OC0R-jYuldC6",
        "outputId": "3feec8c9-1a34-49ea-ae54-8a2116b8f0cc"
      },
      "execution_count": null,
      "outputs": [
        {
          "output_type": "execute_result",
          "data": {
            "text/plain": [
              "fixed acidity           float64\n",
              "volatile acidity        float64\n",
              "citric acid             float64\n",
              "residual sugar          float64\n",
              "chlorides               float64\n",
              "free sulfur dioxide     float64\n",
              "total sulfur dioxide    float64\n",
              "density                 float64\n",
              "pH                      float64\n",
              "sulphates               float64\n",
              "alcohol                 float64\n",
              "quality                   int64\n",
              "dtype: object"
            ]
          },
          "metadata": {},
          "execution_count": 5
        }
      ]
    },
    {
      "cell_type": "code",
      "source": [
        "df.isnull().sum()"
      ],
      "metadata": {
        "colab": {
          "base_uri": "https://localhost:8080/"
        },
        "id": "rAwU7_-PrFo_",
        "outputId": "384c0880-f465-4c42-c80f-e1de6e0a582e"
      },
      "execution_count": null,
      "outputs": [
        {
          "output_type": "execute_result",
          "data": {
            "text/plain": [
              "fixed acidity           0\n",
              "volatile acidity        0\n",
              "citric acid             0\n",
              "residual sugar          0\n",
              "chlorides               0\n",
              "free sulfur dioxide     0\n",
              "total sulfur dioxide    0\n",
              "density                 0\n",
              "pH                      0\n",
              "sulphates               0\n",
              "alcohol                 0\n",
              "quality                 0\n",
              "dtype: int64"
            ]
          },
          "metadata": {},
          "execution_count": 6
        }
      ]
    },
    {
      "cell_type": "code",
      "source": [
        "fig, ax = plt.subplots(figsize=(6, 6))\n",
        "pcv = Rank2D(features=df.columns, algorithm=\"pearson\")\n",
        "pcv.fit(df, df.quality)\n",
        "pcv.transform(df)\n",
        "pcv.poof()"
      ],
      "metadata": {
        "colab": {
          "base_uri": "https://localhost:8080/",
          "height": 436
        },
        "id": "HOTKqZe8jzLO",
        "outputId": "8832eaff-c1d8-4330-d66d-1fdbc19b2a30"
      },
      "execution_count": null,
      "outputs": [
        {
          "output_type": "display_data",
          "data": {
            "text/plain": [
              "<Figure size 432x432 with 2 Axes>"
            ],
            "image/png": "[encoded data removed]"
          },
          "metadata": {
            "needs_background": "light"
          }
        },
        {
          "output_type": "execute_result",
          "data": {
            "text/plain": [
              "<matplotlib.axes._subplots.AxesSubplot at 0x7f2ff9e88a30>"
            ]
          },
          "metadata": {},
          "execution_count": 7
        }
      ]
    },
    {
      "cell_type": "markdown",
      "source": [
        "Alcohol_level show correation bettwen alcohol and quality. Based on map above - alcohol -quality corr == around 0.6\n",
        "Density_level show correation bettwen density and quality. Based on map above - density -quality corr == around -0.55 ( minor corr)\n"
      ],
      "metadata": {
        "id": "z1jBzd-18kil"
      }
    },
    {
      "cell_type": "code",
      "source": [
        "def calculate_feature_relation(df,feature):\n",
        "    median = df[feature].median()\n",
        "    for i, value in enumerate(df[feature]):\n",
        "        if value >= median:\n",
        "            df.loc[i,feature + \"_level\"] = 1\n",
        "        else:\n",
        "            df.loc[i,feature + \"_level\"] = 0"
      ],
      "metadata": {
        "id": "8WAaRa6GjvKr"
      },
      "execution_count": null,
      "outputs": []
    },
    {
      "cell_type": "code",
      "source": [
        "calculate_feature_relation(df,'alcohol')\n",
        "calculate_feature_relation(df,'density')"
      ],
      "metadata": {
        "id": "3d0PDCpTj5cm"
      },
      "execution_count": null,
      "outputs": []
    },
    {
      "cell_type": "code",
      "source": [
        "df.groupby('alcohol_level').quality.mean()"
      ],
      "metadata": {
        "colab": {
          "base_uri": "https://localhost:8080/"
        },
        "id": "yCg9QIaqj5hc",
        "outputId": "c36e377c-4494-42d9-86f3-7b71bed38cd7"
      },
      "execution_count": null,
      "outputs": [
        {
          "output_type": "execute_result",
          "data": {
            "text/plain": [
              "alcohol_level\n",
              "0.0    5.475921\n",
              "1.0    6.146084\n",
              "Name: quality, dtype: float64"
            ]
          },
          "metadata": {},
          "execution_count": 10
        }
      ]
    },
    {
      "cell_type": "code",
      "source": [
        "df.groupby('density_level').quality.mean()"
      ],
      "metadata": {
        "colab": {
          "base_uri": "https://localhost:8080/"
        },
        "id": "mCqloTUrj5mY",
        "outputId": "4f471fad-cb85-4b6b-b116-c7fec67d07c5"
      },
      "execution_count": null,
      "outputs": [
        {
          "output_type": "execute_result",
          "data": {
            "text/plain": [
              "density_level\n",
              "0.0    6.048968\n",
              "1.0    5.588000\n",
              "Name: quality, dtype: float64"
            ]
          },
          "metadata": {},
          "execution_count": 11
        }
      ]
    },
    {
      "cell_type": "code",
      "source": [
        "df.plot.box(figsize=(20,5), rot=90)"
      ],
      "metadata": {
        "colab": {
          "base_uri": "https://localhost:8080/",
          "height": 407
        },
        "id": "v8o2fpTWj5r7",
        "outputId": "611d6726-19b4-45c7-98d4-8693c901a3d9"
      },
      "execution_count": null,
      "outputs": [
        {
          "output_type": "execute_result",
          "data": {
            "text/plain": [
              "<matplotlib.axes._subplots.AxesSubplot at 0x7f2ff989cfd0>"
            ]
          },
          "metadata": {},
          "execution_count": 12
        },
        {
          "output_type": "display_data",
          "data": {
            "text/plain": [
              "<Figure size 1440x360 with 1 Axes>"
            ],
            "image/png": "[encoded data removed]"
          },
          "metadata": {
            "needs_background": "light"
          }
        }
      ]
    },
    {
      "cell_type": "markdown",
      "source": [
        "Because of data isn't normalize and have outliners we will be use StandardScaler."
      ],
      "metadata": {
        "id": "0X7KuvNQ8hKf"
      }
    },
    {
      "cell_type": "code",
      "source": [
        "std = preprocessing.StandardScaler()"
      ],
      "metadata": {
        "id": "ezQUHHrGV3T3"
      },
      "execution_count": null,
      "outputs": []
    },
    {
      "cell_type": "code",
      "source": [
        "df = pd.DataFrame(std.fit_transform(df), columns = df.columns)"
      ],
      "metadata": {
        "id": "Q_xl0nCKWBxI"
      },
      "execution_count": null,
      "outputs": []
    },
    {
      "cell_type": "code",
      "source": [
        "std.scale_"
      ],
      "metadata": {
        "colab": {
          "base_uri": "https://localhost:8080/"
        },
        "id": "1EApA22QWB2d",
        "outputId": "ee0c4e03-5361-471b-8571-530f0bd04f47"
      },
      "execution_count": null,
      "outputs": [
        {
          "output_type": "execute_result",
          "data": {
            "text/plain": [
              "array([1.29633398e+00, 1.64623803e-01, 1.45306681e-01, 4.75743758e+00,\n",
              "       3.50309051e-02, 1.77480338e+01, 5.65175045e+01, 2.99844222e-03,\n",
              "       1.60774828e-01, 1.48794421e-01, 1.19261996e+00, 8.73188064e-01,\n",
              "       4.99878874e-01, 4.99999947e-01])"
            ]
          },
          "metadata": {},
          "execution_count": 15
        }
      ]
    },
    {
      "cell_type": "code",
      "source": [
        "std.mean_"
      ],
      "metadata": {
        "colab": {
          "base_uri": "https://localhost:8080/"
        },
        "id": "b5XMkH8WWB8R",
        "outputId": "a1739ef8-66fe-4d5c-8db8-721da627c57e"
      },
      "execution_count": null,
      "outputs": [
        {
          "output_type": "execute_result",
          "data": {
            "text/plain": [
              "array([7.21530706e+00, 3.39666000e-01, 3.18633215e-01, 5.44323534e+00,\n",
              "       5.60338618e-02, 3.05253194e+01, 1.15744574e+02, 9.94696634e-01,\n",
              "       3.21850085e+00, 5.31268278e-01, 1.04918008e+01, 5.81837771e+00,\n",
              "       5.11005079e-01, 5.00230876e-01])"
            ]
          },
          "metadata": {},
          "execution_count": 16
        }
      ]
    },
    {
      "cell_type": "code",
      "source": [
        "df_std = (df - df.mean()) / df.std()"
      ],
      "metadata": {
        "id": "FSqjHjbvWdTG"
      },
      "execution_count": null,
      "outputs": []
    },
    {
      "cell_type": "markdown",
      "source": [
        "df_std need to tracking the original mean and standard deviation"
      ],
      "metadata": {
        "id": "qa8VTVyJ9fv5"
      }
    },
    {
      "cell_type": "code",
      "source": [
        "df_std"
      ],
      "metadata": {
        "colab": {
          "base_uri": "https://localhost:8080/",
          "height": 517
        },
        "id": "qLcR9PNpWdZm",
        "outputId": "a26f6412-ab3d-451a-c20a-8605d3f91655"
      },
      "execution_count": null,
      "outputs": [
        {
          "output_type": "execute_result",
          "data": {
            "text/plain": [
              "      fixed acidity  volatile acidity  citric acid  residual sugar  chlorides  \\\n",
              "0          0.142462          2.188664    -2.192664       -0.744721   0.569914   \n",
              "1          0.451001          3.281982    -2.192664       -0.597594   1.197883   \n",
              "2          0.451001          2.553104    -1.917405       -0.660648   1.026618   \n",
              "3          3.073580         -0.362411     1.660957       -0.744721   0.541370   \n",
              "4          0.142462          2.188664    -2.192664       -0.744721   0.569914   \n",
              "...             ...               ...          ...             ...        ...   \n",
              "6492      -0.783154         -0.787590    -0.197039       -0.807775  -0.486215   \n",
              "6493      -0.474615         -0.119451     0.284664        0.537383  -0.257863   \n",
              "6494      -0.551750         -0.605370    -0.885185       -0.891847  -0.429127   \n",
              "6495      -1.323097         -0.301671    -0.128224       -0.912866  -0.971463   \n",
              "6496      -0.937423         -0.787590     0.422293       -0.975920  -1.028551   \n",
              "\n",
              "      free sulfur dioxide  total sulfur dioxide   density        pH  \\\n",
              "0               -1.100055             -1.446247  1.034913  1.812950   \n",
              "1               -0.311296             -0.862402  0.701432 -0.115064   \n",
              "2               -0.874695             -1.092402  0.768128  0.258100   \n",
              "3               -0.762016             -0.986248  1.101609 -0.363840   \n",
              "4               -1.100055             -1.446247  1.034913  1.812950   \n",
              "...                   ...                   ...       ...       ...   \n",
              "6492            -0.367636             -0.420095 -1.186069  0.320294   \n",
              "6493             1.491582              0.924517  0.067819 -0.426034   \n",
              "6494            -0.029596             -0.083942 -0.719196 -1.421138   \n",
              "6495            -0.592996             -0.101635 -2.003097  0.755652   \n",
              "6496            -0.480316             -0.313942 -1.762991  0.258100   \n",
              "\n",
              "      sulphates   alcohol   quality  alcohol_level  density_level  \n",
              "0      0.193082 -0.915394 -0.937157      -1.022179       0.999461  \n",
              "1      0.999502 -0.580023 -0.937157      -1.022179       0.999461  \n",
              "2      0.797897 -0.580023 -0.937157      -1.022179       0.999461  \n",
              "3      0.327485 -0.580023  0.207983      -1.022179       0.999461  \n",
              "4      0.193082 -0.915394 -0.937157      -1.022179       0.999461  \n",
              "...         ...       ...       ...            ...            ...  \n",
              "6492  -0.210128  0.593772  0.207983       0.978152      -1.000385  \n",
              "6493  -0.478935 -0.747709 -0.937157      -1.022179       0.999461  \n",
              "6494  -0.478935 -0.915394  0.207983      -1.022179      -1.000385  \n",
              "6495  -1.016548  1.935253  1.353124       0.978152      -1.000385  \n",
              "6496  -1.419758  1.096828  0.207983       0.978152      -1.000385  \n",
              "\n",
              "[6497 rows x 14 columns]"
            ],
            "text/html": [
              "\n",
              "  <div id=\"df-fb889571-42f6-4af3-ba39-964252032810\">\n",
              "    <div class=\"colab-df-container\">\n",
              "      <div>\n",
              "<style scoped>\n",
              "    .dataframe tbody tr th:only-of-type {\n",
              "        vertical-align: middle;\n",
              "    }\n",
              "\n",
              "    .dataframe tbody tr th {\n",
              "        vertical-align: top;\n",
              "    }\n",
              "\n",
              "    .dataframe thead th {\n",
              "        text-align: right;\n",
              "    }\n",
              "</style>\n",
              "<table border=\"1\" class=\"dataframe\">\n",
              "  <thead>\n",
              "    <tr style=\"text-align: right;\">\n",
              "      <th></th>\n",
              "      <th>fixed acidity</th>\n",
              "      <th>volatile acidity</th>\n",
              "      <th>citric acid</th>\n",
              "      <th>residual sugar</th>\n",
              "      <th>chlorides</th>\n",
              "      <th>free sulfur dioxide</th>\n",
              "      <th>total sulfur dioxide</th>\n",
              "      <th>density</th>\n",
              "      <th>pH</th>\n",
              "      <th>sulphates</th>\n",
              "      <th>alcohol</th>\n",
              "      <th>quality</th>\n",
              "      <th>alcohol_level</th>\n",
              "      <th>density_level</th>\n",
              "    </tr>\n",
              "  </thead>\n",
              "  <tbody>\n",
              "    <tr>\n",
              "      <th>0</th>\n",
              "      <td>0.142462</td>\n",
              "      <td>2.188664</td>\n",
              "      <td>-2.192664</td>\n",
              "      <td>-0.744721</td>\n",
              "      <td>0.569914</td>\n",
              "      <td>-1.100055</td>\n",
              "      <td>-1.446247</td>\n",
              "      <td>1.034913</td>\n",
              "      <td>1.812950</td>\n",
              "      <td>0.193082</td>\n",
              "      <td>-0.915394</td>\n",
              "      <td>-0.937157</td>\n",
              "      <td>-1.022179</td>\n",
              "      <td>0.999461</td>\n",
              "    </tr>\n",
              "    <tr>\n",
              "      <th>1</th>\n",
              "      <td>0.451001</td>\n",
              "      <td>3.281982</td>\n",
              "      <td>-2.192664</td>\n",
              "      <td>-0.597594</td>\n",
              "      <td>1.197883</td>\n",
              "      <td>-0.311296</td>\n",
              "      <td>-0.862402</td>\n",
              "      <td>0.701432</td>\n",
              "      <td>-0.115064</td>\n",
              "      <td>0.999502</td>\n",
              "      <td>-0.580023</td>\n",
              "      <td>-0.937157</td>\n",
              "      <td>-1.022179</td>\n",
              "      <td>0.999461</td>\n",
              "    </tr>\n",
              "    <tr>\n",
              "      <th>2</th>\n",
              "      <td>0.451001</td>\n",
              "      <td>2.553104</td>\n",
              "      <td>-1.917405</td>\n",
              "      <td>-0.660648</td>\n",
              "      <td>1.026618</td>\n",
              "      <td>-0.874695</td>\n",
              "      <td>-1.092402</td>\n",
              "      <td>0.768128</td>\n",
              "      <td>0.258100</td>\n",
              "      <td>0.797897</td>\n",
              "      <td>-0.580023</td>\n",
              "      <td>-0.937157</td>\n",
              "      <td>-1.022179</td>\n",
              "      <td>0.999461</td>\n",
              "    </tr>\n",
              "    <tr>\n",
              "      <th>3</th>\n",
              "      <td>3.073580</td>\n",
              "      <td>-0.362411</td>\n",
              "      <td>1.660957</td>\n",
              "      <td>-0.744721</td>\n",
              "      <td>0.541370</td>\n",
              "      <td>-0.762016</td>\n",
              "      <td>-0.986248</td>\n",
              "      <td>1.101609</td>\n",
              "      <td>-0.363840</td>\n",
              "      <td>0.327485</td>\n",
              "      <td>-0.580023</td>\n",
              "      <td>0.207983</td>\n",
              "      <td>-1.022179</td>\n",
              "      <td>0.999461</td>\n",
              "    </tr>\n",
              "    <tr>\n",
              "      <th>4</th>\n",
              "      <td>0.142462</td>\n",
              "      <td>2.188664</td>\n",
              "      <td>-2.192664</td>\n",
              "      <td>-0.744721</td>\n",
              "      <td>0.569914</td>\n",
              "      <td>-1.100055</td>\n",
              "      <td>-1.446247</td>\n",
              "      <td>1.034913</td>\n",
              "      <td>1.812950</td>\n",
              "      <td>0.193082</td>\n",
              "      <td>-0.915394</td>\n",
              "      <td>-0.937157</td>\n",
              "      <td>-1.022179</td>\n",
              "      <td>0.999461</td>\n",
              "    </tr>\n",
              "    <tr>\n",
              "      <th>...</th>\n",
              "      <td>...</td>\n",
              "      <td>...</td>\n",
              "      <td>...</td>\n",
              "      <td>...</td>\n",
              "      <td>...</td>\n",
              "      <td>...</td>\n",
              "      <td>...</td>\n",
              "      <td>...</td>\n",
              "      <td>...</td>\n",
              "      <td>...</td>\n",
              "      <td>...</td>\n",
              "      <td>...</td>\n",
              "      <td>...</td>\n",
              "      <td>...</td>\n",
              "    </tr>\n",
              "    <tr>\n",
              "      <th>6492</th>\n",
              "      <td>-0.783154</td>\n",
              "      <td>-0.787590</td>\n",
              "      <td>-0.197039</td>\n",
              "      <td>-0.807775</td>\n",
              "      <td>-0.486215</td>\n",
              "      <td>-0.367636</td>\n",
              "      <td>-0.420095</td>\n",
              "      <td>-1.186069</td>\n",
              "      <td>0.320294</td>\n",
              "      <td>-0.210128</td>\n",
              "      <td>0.593772</td>\n",
              "      <td>0.207983</td>\n",
              "      <td>0.978152</td>\n",
              "      <td>-1.000385</td>\n",
              "    </tr>\n",
              "    <tr>\n",
              "      <th>6493</th>\n",
              "      <td>-0.474615</td>\n",
              "      <td>-0.119451</td>\n",
              "      <td>0.284664</td>\n",
              "      <td>0.537383</td>\n",
              "      <td>-0.257863</td>\n",
              "      <td>1.491582</td>\n",
              "      <td>0.924517</td>\n",
              "      <td>0.067819</td>\n",
              "      <td>-0.426034</td>\n",
              "      <td>-0.478935</td>\n",
              "      <td>-0.747709</td>\n",
              "      <td>-0.937157</td>\n",
              "      <td>-1.022179</td>\n",
              "      <td>0.999461</td>\n",
              "    </tr>\n",
              "    <tr>\n",
              "      <th>6494</th>\n",
              "      <td>-0.551750</td>\n",
              "      <td>-0.605370</td>\n",
              "      <td>-0.885185</td>\n",
              "      <td>-0.891847</td>\n",
              "      <td>-0.429127</td>\n",
              "      <td>-0.029596</td>\n",
              "      <td>-0.083942</td>\n",
              "      <td>-0.719196</td>\n",
              "      <td>-1.421138</td>\n",
              "      <td>-0.478935</td>\n",
              "      <td>-0.915394</td>\n",
              "      <td>0.207983</td>\n",
              "      <td>-1.022179</td>\n",
              "      <td>-1.000385</td>\n",
              "    </tr>\n",
              "    <tr>\n",
              "      <th>6495</th>\n",
              "      <td>-1.323097</td>\n",
              "      <td>-0.301671</td>\n",
              "      <td>-0.128224</td>\n",
              "      <td>-0.912866</td>\n",
              "      <td>-0.971463</td>\n",
              "      <td>-0.592996</td>\n",
              "      <td>-0.101635</td>\n",
              "      <td>-2.003097</td>\n",
              "      <td>0.755652</td>\n",
              "      <td>-1.016548</td>\n",
              "      <td>1.935253</td>\n",
              "      <td>1.353124</td>\n",
              "      <td>0.978152</td>\n",
              "      <td>-1.000385</td>\n",
              "    </tr>\n",
              "    <tr>\n",
              "      <th>6496</th>\n",
              "      <td>-0.937423</td>\n",
              "      <td>-0.787590</td>\n",
              "      <td>0.422293</td>\n",
              "      <td>-0.975920</td>\n",
              "      <td>-1.028551</td>\n",
              "      <td>-0.480316</td>\n",
              "      <td>-0.313942</td>\n",
              "      <td>-1.762991</td>\n",
              "      <td>0.258100</td>\n",
              "      <td>-1.419758</td>\n",
              "      <td>1.096828</td>\n",
              "      <td>0.207983</td>\n",
              "      <td>0.978152</td>\n",
              "      <td>-1.000385</td>\n",
              "    </tr>\n",
              "  </tbody>\n",
              "</table>\n",
              "<p>6497 rows × 14 columns</p>\n",
              "</div>\n",
              "      <button class=\"colab-df-convert\" onclick=\"convertToInteractive('df-fb889571-42f6-4af3-ba39-964252032810')\"\n",
              "              title=\"Convert this dataframe to an interactive table.\"\n",
              "              style=\"display:none;\">\n",
              "        \n",
              "  <svg xmlns=\"http://www.w3.org/2000/svg\" height=\"24px\"viewBox=\"0 0 24 24\"\n",
              "       width=\"24px\">\n",
              "    <path d=\"M0 0h24v24H0V0z\" fill=\"none\"/>\n",
              "    <path d=\"M18.56 5.44l.94 2.06.94-2.06 2.06-.94-2.06-.94-.94-2.06-.94 2.06-2.06.94zm-11 1L8.5 8.5l.94-2.06 2.06-.94-2.06-.94L8.5 2.5l-.94 2.06-2.06.94zm10 10l.94 2.06.94-2.06 2.06-.94-2.06-.94-.94-2.06-.94 2.06-2.06.94z\"/><path d=\"M17.41 7.96l-1.37-1.37c-.4-.4-.92-.59-1.43-.59-.52 0-1.04.2-1.43.59L10.3 9.45l-7.72 7.72c-.78.78-.78 2.05 0 2.83L4 21.41c.39.39.9.59 1.41.59.51 0 1.02-.2 1.41-.59l7.78-7.78 2.81-2.81c.8-.78.8-2.07 0-2.86zM5.41 20L4 18.59l7.72-7.72 1.47 1.35L5.41 20z\"/>\n",
              "  </svg>\n",
              "      </button>\n",
              "      \n",
              "  <style>\n",
              "    .colab-df-container {\n",
              "      display:flex;\n",
              "      flex-wrap:wrap;\n",
              "      gap: 12px;\n",
              "    }\n",
              "\n",
              "    .colab-df-convert {\n",
              "      background-color: #E8F0FE;\n",
              "      border: none;\n",
              "      border-radius: 50%;\n",
              "      cursor: pointer;\n",
              "      display: none;\n",
              "      fill: #1967D2;\n",
              "      height: 32px;\n",
              "      padding: 0 0 0 0;\n",
              "      width: 32px;\n",
              "    }\n",
              "\n",
              "    .colab-df-convert:hover {\n",
              "      background-color: #E2EBFA;\n",
              "      box-shadow: 0px 1px 2px rgba(60, 64, 67, 0.3), 0px 1px 3px 1px rgba(60, 64, 67, 0.15);\n",
              "      fill: #174EA6;\n",
              "    }\n",
              "\n",
              "    [theme=dark] .colab-df-convert {\n",
              "      background-color: #3B4455;\n",
              "      fill: #D2E3FC;\n",
              "    }\n",
              "\n",
              "    [theme=dark] .colab-df-convert:hover {\n",
              "      background-color: #434B5C;\n",
              "      box-shadow: 0px 1px 3px 1px rgba(0, 0, 0, 0.15);\n",
              "      filter: drop-shadow(0px 1px 2px rgba(0, 0, 0, 0.3));\n",
              "      fill: #FFFFFF;\n",
              "    }\n",
              "  </style>\n",
              "\n",
              "      <script>\n",
              "        const buttonEl =\n",
              "          document.querySelector('#df-fb889571-42f6-4af3-ba39-964252032810 button.colab-df-convert');\n",
              "        buttonEl.style.display =\n",
              "          google.colab.kernel.accessAllowed ? 'block' : 'none';\n",
              "\n",
              "        async function convertToInteractive(key) {\n",
              "          const element = document.querySelector('#df-fb889571-42f6-4af3-ba39-964252032810');\n",
              "          const dataTable =\n",
              "            await google.colab.kernel.invokeFunction('convertToInteractive',\n",
              "                                                     [key], {});\n",
              "          if (!dataTable) return;\n",
              "\n",
              "          const docLinkHtml = 'Like what you see? Visit the ' +\n",
              "            '<a target=\"_blank\" href=https://colab.research.google.com/notebooks/data_table.ipynb>data table notebook</a>'\n",
              "            + ' to learn more about interactive tables.';\n",
              "          element.innerHTML = '';\n",
              "          dataTable['output_type'] = 'display_data';\n",
              "          await google.colab.output.renderOutput(dataTable, element);\n",
              "          const docLink = document.createElement('div');\n",
              "          docLink.innerHTML = docLinkHtml;\n",
              "          element.appendChild(docLink);\n",
              "        }\n",
              "      </script>\n",
              "    </div>\n",
              "  </div>\n",
              "  "
            ]
          },
          "metadata": {},
          "execution_count": 18
        }
      ]
    },
    {
      "cell_type": "code",
      "source": [
        "df_std.mean()"
      ],
      "metadata": {
        "colab": {
          "base_uri": "https://localhost:8080/"
        },
        "id": "YV1Gikp4Wdgk",
        "outputId": "6ff65f29-c7e5-4501-a1a2-86465f41a21c"
      },
      "execution_count": null,
      "outputs": [
        {
          "output_type": "execute_result",
          "data": {
            "text/plain": [
              "fixed acidity          -1.049902e-16\n",
              "volatile acidity        3.499672e-17\n",
              "citric acid             2.187295e-17\n",
              "residual sugar          3.499672e-17\n",
              "chlorides               5.249508e-17\n",
              "free sulfur dioxide    -1.749836e-17\n",
              "total sulfur dioxide    3.499672e-17\n",
              "density                 3.499672e-17\n",
              "pH                      0.000000e+00\n",
              "sulphates               3.499672e-17\n",
              "alcohol                 1.749836e-17\n",
              "quality                -3.499672e-17\n",
              "alcohol_level          -6.124426e-17\n",
              "density_level          -1.749836e-17\n",
              "dtype: float64"
            ]
          },
          "metadata": {},
          "execution_count": 19
        }
      ]
    },
    {
      "cell_type": "code",
      "source": [
        "df_std.std()"
      ],
      "metadata": {
        "colab": {
          "base_uri": "https://localhost:8080/"
        },
        "id": "gshN7BXXWdnN",
        "outputId": "5e64e558-798b-4d47-9c38-3428c95a4cc3"
      },
      "execution_count": null,
      "outputs": [
        {
          "output_type": "execute_result",
          "data": {
            "text/plain": [
              "fixed acidity           1.0\n",
              "volatile acidity        1.0\n",
              "citric acid             1.0\n",
              "residual sugar          1.0\n",
              "chlorides               1.0\n",
              "free sulfur dioxide     1.0\n",
              "total sulfur dioxide    1.0\n",
              "density                 1.0\n",
              "pH                      1.0\n",
              "sulphates               1.0\n",
              "alcohol                 1.0\n",
              "quality                 1.0\n",
              "alcohol_level           1.0\n",
              "density_level           1.0\n",
              "dtype: float64"
            ]
          },
          "metadata": {},
          "execution_count": 20
        }
      ]
    },
    {
      "cell_type": "code",
      "source": [
        "df.head()"
      ],
      "metadata": {
        "colab": {
          "base_uri": "https://localhost:8080/",
          "height": 302
        },
        "id": "q38mq7UlXIhJ",
        "outputId": "fc2c7900-c6b9-43e3-be10-79ac2aa8c6ad"
      },
      "execution_count": null,
      "outputs": [
        {
          "output_type": "execute_result",
          "data": {
            "text/plain": [
              "   fixed acidity  volatile acidity  citric acid  residual sugar  chlorides  \\\n",
              "0       0.142473          2.188833    -2.192833       -0.744778   0.569958   \n",
              "1       0.451036          3.282235    -2.192833       -0.597640   1.197975   \n",
              "2       0.451036          2.553300    -1.917553       -0.660699   1.026697   \n",
              "3       3.073817         -0.362438     1.661085       -0.744778   0.541412   \n",
              "4       0.142473          2.188833    -2.192833       -0.744778   0.569958   \n",
              "\n",
              "   free sulfur dioxide  total sulfur dioxide   density        pH  sulphates  \\\n",
              "0            -1.100140             -1.446359  1.034993  1.813090   0.193097   \n",
              "1            -0.311320             -0.862469  0.701486 -0.115073   0.999579   \n",
              "2            -0.874763             -1.092486  0.768188  0.258120   0.797958   \n",
              "3            -0.762074             -0.986324  1.101694 -0.363868   0.327510   \n",
              "4            -1.100140             -1.446359  1.034993  1.813090   0.193097   \n",
              "\n",
              "    alcohol   quality  alcohol_level  density_level  \n",
              "0 -0.915464 -0.937230      -1.022258       0.999538  \n",
              "1 -0.580068 -0.937230      -1.022258       0.999538  \n",
              "2 -0.580068 -0.937230      -1.022258       0.999538  \n",
              "3 -0.580068  0.207999      -1.022258       0.999538  \n",
              "4 -0.915464 -0.937230      -1.022258       0.999538  "
            ],
            "text/html": [
              "\n",
              "  <div id=\"df-cdb3688b-13a8-4f9f-8009-6246f23547a0\">\n",
              "    <div class=\"colab-df-container\">\n",
              "      <div>\n",
              "<style scoped>\n",
              "    .dataframe tbody tr th:only-of-type {\n",
              "        vertical-align: middle;\n",
              "    }\n",
              "\n",
              "    .dataframe tbody tr th {\n",
              "        vertical-align: top;\n",
              "    }\n",
              "\n",
              "    .dataframe thead th {\n",
              "        text-align: right;\n",
              "    }\n",
              "</style>\n",
              "<table border=\"1\" class=\"dataframe\">\n",
              "  <thead>\n",
              "    <tr style=\"text-align: right;\">\n",
              "      <th></th>\n",
              "      <th>fixed acidity</th>\n",
              "      <th>volatile acidity</th>\n",
              "      <th>citric acid</th>\n",
              "      <th>residual sugar</th>\n",
              "      <th>chlorides</th>\n",
              "      <th>free sulfur dioxide</th>\n",
              "      <th>total sulfur dioxide</th>\n",
              "      <th>density</th>\n",
              "      <th>pH</th>\n",
              "      <th>sulphates</th>\n",
              "      <th>alcohol</th>\n",
              "      <th>quality</th>\n",
              "      <th>alcohol_level</th>\n",
              "      <th>density_level</th>\n",
              "    </tr>\n",
              "  </thead>\n",
              "  <tbody>\n",
              "    <tr>\n",
              "      <th>0</th>\n",
              "      <td>0.142473</td>\n",
              "      <td>2.188833</td>\n",
              "      <td>-2.192833</td>\n",
              "      <td>-0.744778</td>\n",
              "      <td>0.569958</td>\n",
              "      <td>-1.100140</td>\n",
              "      <td>-1.446359</td>\n",
              "      <td>1.034993</td>\n",
              "      <td>1.813090</td>\n",
              "      <td>0.193097</td>\n",
              "      <td>-0.915464</td>\n",
              "      <td>-0.937230</td>\n",
              "      <td>-1.022258</td>\n",
              "      <td>0.999538</td>\n",
              "    </tr>\n",
              "    <tr>\n",
              "      <th>1</th>\n",
              "      <td>0.451036</td>\n",
              "      <td>3.282235</td>\n",
              "      <td>-2.192833</td>\n",
              "      <td>-0.597640</td>\n",
              "      <td>1.197975</td>\n",
              "      <td>-0.311320</td>\n",
              "      <td>-0.862469</td>\n",
              "      <td>0.701486</td>\n",
              "      <td>-0.115073</td>\n",
              "      <td>0.999579</td>\n",
              "      <td>-0.580068</td>\n",
              "      <td>-0.937230</td>\n",
              "      <td>-1.022258</td>\n",
              "      <td>0.999538</td>\n",
              "    </tr>\n",
              "    <tr>\n",
              "      <th>2</th>\n",
              "      <td>0.451036</td>\n",
              "      <td>2.553300</td>\n",
              "      <td>-1.917553</td>\n",
              "      <td>-0.660699</td>\n",
              "      <td>1.026697</td>\n",
              "      <td>-0.874763</td>\n",
              "      <td>-1.092486</td>\n",
              "      <td>0.768188</td>\n",
              "      <td>0.258120</td>\n",
              "      <td>0.797958</td>\n",
              "      <td>-0.580068</td>\n",
              "      <td>-0.937230</td>\n",
              "      <td>-1.022258</td>\n",
              "      <td>0.999538</td>\n",
              "    </tr>\n",
              "    <tr>\n",
              "      <th>3</th>\n",
              "      <td>3.073817</td>\n",
              "      <td>-0.362438</td>\n",
              "      <td>1.661085</td>\n",
              "      <td>-0.744778</td>\n",
              "      <td>0.541412</td>\n",
              "      <td>-0.762074</td>\n",
              "      <td>-0.986324</td>\n",
              "      <td>1.101694</td>\n",
              "      <td>-0.363868</td>\n",
              "      <td>0.327510</td>\n",
              "      <td>-0.580068</td>\n",
              "      <td>0.207999</td>\n",
              "      <td>-1.022258</td>\n",
              "      <td>0.999538</td>\n",
              "    </tr>\n",
              "    <tr>\n",
              "      <th>4</th>\n",
              "      <td>0.142473</td>\n",
              "      <td>2.188833</td>\n",
              "      <td>-2.192833</td>\n",
              "      <td>-0.744778</td>\n",
              "      <td>0.569958</td>\n",
              "      <td>-1.100140</td>\n",
              "      <td>-1.446359</td>\n",
              "      <td>1.034993</td>\n",
              "      <td>1.813090</td>\n",
              "      <td>0.193097</td>\n",
              "      <td>-0.915464</td>\n",
              "      <td>-0.937230</td>\n",
              "      <td>-1.022258</td>\n",
              "      <td>0.999538</td>\n",
              "    </tr>\n",
              "  </tbody>\n",
              "</table>\n",
              "</div>\n",
              "      <button class=\"colab-df-convert\" onclick=\"convertToInteractive('df-cdb3688b-13a8-4f9f-8009-6246f23547a0')\"\n",
              "              title=\"Convert this dataframe to an interactive table.\"\n",
              "              style=\"display:none;\">\n",
              "        \n",
              "  <svg xmlns=\"http://www.w3.org/2000/svg\" height=\"24px\"viewBox=\"0 0 24 24\"\n",
              "       width=\"24px\">\n",
              "    <path d=\"M0 0h24v24H0V0z\" fill=\"none\"/>\n",
              "    <path d=\"M18.56 5.44l.94 2.06.94-2.06 2.06-.94-2.06-.94-.94-2.06-.94 2.06-2.06.94zm-11 1L8.5 8.5l.94-2.06 2.06-.94-2.06-.94L8.5 2.5l-.94 2.06-2.06.94zm10 10l.94 2.06.94-2.06 2.06-.94-2.06-.94-.94-2.06-.94 2.06-2.06.94z\"/><path d=\"M17.41 7.96l-1.37-1.37c-.4-.4-.92-.59-1.43-.59-.52 0-1.04.2-1.43.59L10.3 9.45l-7.72 7.72c-.78.78-.78 2.05 0 2.83L4 21.41c.39.39.9.59 1.41.59.51 0 1.02-.2 1.41-.59l7.78-7.78 2.81-2.81c.8-.78.8-2.07 0-2.86zM5.41 20L4 18.59l7.72-7.72 1.47 1.35L5.41 20z\"/>\n",
              "  </svg>\n",
              "      </button>\n",
              "      \n",
              "  <style>\n",
              "    .colab-df-container {\n",
              "      display:flex;\n",
              "      flex-wrap:wrap;\n",
              "      gap: 12px;\n",
              "    }\n",
              "\n",
              "    .colab-df-convert {\n",
              "      background-color: #E8F0FE;\n",
              "      border: none;\n",
              "      border-radius: 50%;\n",
              "      cursor: pointer;\n",
              "      display: none;\n",
              "      fill: #1967D2;\n",
              "      height: 32px;\n",
              "      padding: 0 0 0 0;\n",
              "      width: 32px;\n",
              "    }\n",
              "\n",
              "    .colab-df-convert:hover {\n",
              "      background-color: #E2EBFA;\n",
              "      box-shadow: 0px 1px 2px rgba(60, 64, 67, 0.3), 0px 1px 3px 1px rgba(60, 64, 67, 0.15);\n",
              "      fill: #174EA6;\n",
              "    }\n",
              "\n",
              "    [theme=dark] .colab-df-convert {\n",
              "      background-color: #3B4455;\n",
              "      fill: #D2E3FC;\n",
              "    }\n",
              "\n",
              "    [theme=dark] .colab-df-convert:hover {\n",
              "      background-color: #434B5C;\n",
              "      box-shadow: 0px 1px 3px 1px rgba(0, 0, 0, 0.15);\n",
              "      filter: drop-shadow(0px 1px 2px rgba(0, 0, 0, 0.3));\n",
              "      fill: #FFFFFF;\n",
              "    }\n",
              "  </style>\n",
              "\n",
              "      <script>\n",
              "        const buttonEl =\n",
              "          document.querySelector('#df-cdb3688b-13a8-4f9f-8009-6246f23547a0 button.colab-df-convert');\n",
              "        buttonEl.style.display =\n",
              "          google.colab.kernel.accessAllowed ? 'block' : 'none';\n",
              "\n",
              "        async function convertToInteractive(key) {\n",
              "          const element = document.querySelector('#df-cdb3688b-13a8-4f9f-8009-6246f23547a0');\n",
              "          const dataTable =\n",
              "            await google.colab.kernel.invokeFunction('convertToInteractive',\n",
              "                                                     [key], {});\n",
              "          if (!dataTable) return;\n",
              "\n",
              "          const docLinkHtml = 'Like what you see? Visit the ' +\n",
              "            '<a target=\"_blank\" href=https://colab.research.google.com/notebooks/data_table.ipynb>data table notebook</a>'\n",
              "            + ' to learn more about interactive tables.';\n",
              "          element.innerHTML = '';\n",
              "          dataTable['output_type'] = 'display_data';\n",
              "          await google.colab.output.renderOutput(dataTable, element);\n",
              "          const docLink = document.createElement('div');\n",
              "          docLink.innerHTML = docLinkHtml;\n",
              "          element.appendChild(docLink);\n",
              "        }\n",
              "      </script>\n",
              "    </div>\n",
              "  </div>\n",
              "  "
            ]
          },
          "metadata": {},
          "execution_count": 21
        }
      ]
    },
    {
      "cell_type": "code",
      "source": [
        "df.dtypes"
      ],
      "metadata": {
        "colab": {
          "base_uri": "https://localhost:8080/"
        },
        "id": "xUMtPY-73S8y",
        "outputId": "5cd441a8-3840-426b-a86d-dec9893eb9d0"
      },
      "execution_count": null,
      "outputs": [
        {
          "output_type": "execute_result",
          "data": {
            "text/plain": [
              "fixed acidity           float64\n",
              "volatile acidity        float64\n",
              "citric acid             float64\n",
              "residual sugar          float64\n",
              "chlorides               float64\n",
              "free sulfur dioxide     float64\n",
              "total sulfur dioxide    float64\n",
              "density                 float64\n",
              "pH                      float64\n",
              "sulphates               float64\n",
              "alcohol                 float64\n",
              "quality                 float64\n",
              "alcohol_level           float64\n",
              "density_level           float64\n",
              "dtype: object"
            ]
          },
          "metadata": {},
          "execution_count": 22
        }
      ]
    },
    {
      "cell_type": "code",
      "source": [
        "df_full_train, df_test = train_test_split(df, test_size=0.2, random_state=1)\n",
        "df_train, df_val = train_test_split(df_full_train, test_size=0.25, random_state=1)\n",
        "df_train = df_train.reset_index(drop=True)\n",
        "df_val = df_val.reset_index(drop=True)\n",
        "df_test = df_test.reset_index(drop=True)"
      ],
      "metadata": {
        "id": "9cr3HftFrbEa"
      },
      "execution_count": null,
      "outputs": []
    },
    {
      "cell_type": "code",
      "source": [
        "y_train = df_train.quality\n",
        "y_val = df_val.quality\n",
        "y_test = df_test.quality\n",
        "\n",
        "del df_train['quality']\n",
        "del df_val['quality']\n",
        "del df_test['quality']"
      ],
      "metadata": {
        "id": "AvjJfvz81My1"
      },
      "execution_count": null,
      "outputs": []
    },
    {
      "cell_type": "code",
      "source": [
        "y_train = y_train.astype(int)\n",
        "y_val = y_val.astype(int)\n",
        "y_test = y_test.astype(int)\n",
        "\n",
        "  "
      ],
      "metadata": {
        "id": "PgQ_cM034Sus"
      },
      "execution_count": null,
      "outputs": []
    },
    {
      "cell_type": "code",
      "source": [
        "len(df_train), len(df_val), len(df_test)"
      ],
      "metadata": {
        "colab": {
          "base_uri": "https://localhost:8080/"
        },
        "id": "gkPY_lyp1Vr2",
        "outputId": "c3bdc727-1691-44dd-c48f-d848f38aa88c"
      },
      "execution_count": null,
      "outputs": [
        {
          "output_type": "execute_result",
          "data": {
            "text/plain": [
              "(3897, 1300, 1300)"
            ]
          },
          "metadata": {},
          "execution_count": 26
        }
      ]
    },
    {
      "cell_type": "code",
      "source": [
        "df_train.plot.box(figsize=(20,5), rot=90)"
      ],
      "metadata": {
        "colab": {
          "base_uri": "https://localhost:8080/",
          "height": 407
        },
        "id": "c-fvYkB9a0gK",
        "outputId": "6eacd263-6a30-40d4-86f8-958d461c98d0"
      },
      "execution_count": null,
      "outputs": [
        {
          "output_type": "execute_result",
          "data": {
            "text/plain": [
              "<matplotlib.axes._subplots.AxesSubplot at 0x7f2ff95d78b0>"
            ]
          },
          "metadata": {},
          "execution_count": 27
        },
        {
          "output_type": "display_data",
          "data": {
            "text/plain": [
              "<Figure size 1440x360 with 1 Axes>"
            ],
            "image/png": "[encoded data removed]"
          },
          "metadata": {
            "needs_background": "light"
          }
        }
      ]
    },
    {
      "cell_type": "markdown",
      "source": [
        "Data distributed with StandartScaler"
      ],
      "metadata": {
        "id": "b6JlQ4h6-4FS"
      }
    },
    {
      "cell_type": "code",
      "source": [
        "##  Fit a logistic regression classifier without regularization\n",
        "clf_no_reg = LogisticRegression(penalty=\"none\", max_iter= 1000000)\n",
        "clf_no_reg.fit(df_train, y_train)"
      ],
      "metadata": {
        "colab": {
          "base_uri": "https://localhost:8080/"
        },
        "id": "9d6YasYG2hpq",
        "outputId": "8aaccf4e-3a32-4ee8-94a7-04de0f9daa32"
      },
      "execution_count": null,
      "outputs": [
        {
          "output_type": "execute_result",
          "data": {
            "text/plain": [
              "LogisticRegression(max_iter=1000000, penalty='none')"
            ]
          },
          "metadata": {},
          "execution_count": 28
        }
      ]
    },
    {
      "cell_type": "code",
      "source": [
        "from sklearn.metrics import f1_score\n",
        "y_pred_val = clf_no_reg.predict(df_val)\n",
        "y_pred_test = clf_no_reg.predict(df_test)\n",
        "print('Validation Score', f1_score(y_val, y_pred_val,average=\"micro\"))\n",
        "print('Test Score', f1_score(y_test, y_pred_test, average=\"micro\"))"
      ],
      "metadata": {
        "colab": {
          "base_uri": "https://localhost:8080/"
        },
        "id": "xbjmY-y_2hwL",
        "outputId": "ae1ef40a-5d16-444c-e520-ee37bf3eccd0"
      },
      "execution_count": null,
      "outputs": [
        {
          "output_type": "stream",
          "name": "stdout",
          "text": [
            "Validation Score 0.7415384615384616\n",
            "Test Score 0.7838461538461537\n"
          ]
        }
      ]
    },
    {
      "cell_type": "code",
      "source": [
        "clf_default = LogisticRegression(max_iter= 1000000)\n",
        "clf_default.fit(df_train, y_train)"
      ],
      "metadata": {
        "colab": {
          "base_uri": "https://localhost:8080/"
        },
        "id": "qK2nObL52h0R",
        "outputId": "dc61414f-78c1-40a8-9eec-c401c725d11a"
      },
      "execution_count": null,
      "outputs": [
        {
          "output_type": "execute_result",
          "data": {
            "text/plain": [
              "LogisticRegression(max_iter=1000000)"
            ]
          },
          "metadata": {},
          "execution_count": 30
        }
      ]
    },
    {
      "cell_type": "code",
      "source": [
        "y_pred_test = clf_default.predict(df_test)\n",
        "y_pred_val = clf_default.predict(df_val)\n",
        "print('Validation Score', f1_score(y_val, y_pred_val, average=\"micro\"))\n",
        "print('Testing Score', f1_score(y_test, y_pred_test, average=\"micro\"))"
      ],
      "metadata": {
        "colab": {
          "base_uri": "https://localhost:8080/"
        },
        "id": "-oz199wV2h4Q",
        "outputId": "1e8668bf-9078-4da9-ff96-c7813f28bd7f"
      },
      "execution_count": null,
      "outputs": [
        {
          "output_type": "stream",
          "name": "stdout",
          "text": [
            "Validation Score 0.7430769230769231\n",
            "Testing Score 0.7830769230769231\n"
          ]
        }
      ]
    },
    {
      "cell_type": "code",
      "source": [
        "# Hyperparameter tuning\n",
        "training_array = []\n",
        "val_array = []\n",
        "C_array = [0.0001, 0.001, 0.01, 0.1, 1]\n",
        "\n",
        "for x in C_array:\n",
        "  clf = LogisticRegression(C = x, max_iter= 10000)\n",
        "  clf.fit(df_train, y_train)\n",
        "  y_pred_val = clf.predict(df_val)\n",
        "  y_pred_train = clf.predict(df_train)\n",
        "  training_array.append(f1_score(y_train, y_pred_train, average=\"micro\"))\n",
        "  val_array.append(f1_score(y_val, y_pred_val, average=\"micro\"))\n"
      ],
      "metadata": {
        "id": "DdjhCT_X2h7x"
      },
      "execution_count": null,
      "outputs": []
    },
    {
      "cell_type": "code",
      "source": [
        "# Plot training and test scores as a function of C\n",
        "plt.plot(C_array,training_array)\n",
        "plt.plot(C_array,val_array)\n",
        "plt.xscale('log')\n",
        "plt.show()\n",
        "plt.clf()\n"
      ],
      "metadata": {
        "colab": {
          "base_uri": "https://localhost:8080/",
          "height": 286
        },
        "id": "-4jCtfMc2h-5",
        "outputId": "b71b88b4-6a21-4041-ec80-769e20e5f672"
      },
      "execution_count": null,
      "outputs": [
        {
          "output_type": "display_data",
          "data": {
            "text/plain": [
              "<Figure size 432x288 with 1 Axes>"
            ],
            "image/png": "[encoded data removed]"
          },
          "metadata": {
            "needs_background": "light"
          }
        },
        {
          "output_type": "display_data",
          "data": {
            "text/plain": [
              "<Figure size 432x288 with 0 Axes>"
            ]
          },
          "metadata": {}
        }
      ]
    },
    {
      "cell_type": "code",
      "source": [
        "## Making a parameter grid for GridSearchCV\n",
        "C_array = [0.0001,0.001,0.01,0.1,1,10,100,1000,10000]\n",
        "tuning_C = {\"C\": C_array}"
      ],
      "metadata": {
        "id": "RoGwgPkW2iB4"
      },
      "execution_count": null,
      "outputs": []
    },
    {
      "cell_type": "code",
      "source": [
        "# Implementing GridSearchCV with l2 penalty\n",
        "clf_gs =  LogisticRegression(max_iter= 1000000)\n",
        "from sklearn.model_selection import GridSearchCV\n",
        "gs = GridSearchCV(estimator= clf_gs, param_grid =tuning_C, scoring = 'f1_micro', cv = 2)\n",
        "gs.fit(df_train, y_train)"
      ],
      "metadata": {
        "colab": {
          "base_uri": "https://localhost:8080/"
        },
        "id": "seibz7992iEg",
        "outputId": "99f4a1a6-11ac-4fa2-97ad-7409a97902a6"
      },
      "execution_count": null,
      "outputs": [
        {
          "output_type": "execute_result",
          "data": {
            "text/plain": [
              "GridSearchCV(cv=2, estimator=LogisticRegression(max_iter=1000000),\n",
              "             param_grid={'C': [0.0001, 0.001, 0.01, 0.1, 1, 10, 100, 1000,\n",
              "                               10000]},\n",
              "             scoring='f1_micro')"
            ]
          },
          "metadata": {},
          "execution_count": 36
        }
      ]
    },
    {
      "cell_type": "code",
      "source": [
        "# Optimal C value and the score corresponding to it\n",
        "print(gs.best_params_, gs.best_score_)\n"
      ],
      "metadata": {
        "colab": {
          "base_uri": "https://localhost:8080/"
        },
        "id": "oI5Zc24Z2iH2",
        "outputId": "e79d3696-be2b-4dcb-b95a-dc834bb11875"
      },
      "execution_count": null,
      "outputs": [
        {
          "output_type": "stream",
          "name": "stdout",
          "text": [
            "{'C': 0.1} 0.7780333830964755\n"
          ]
        }
      ]
    },
    {
      "cell_type": "code",
      "source": [
        "clf_best_ridge = LogisticRegression(C = gs.best_params_[\"C\"], max_iter= 1000000)\n",
        "clf_best_ridge.fit(df_train, y_train)\n",
        "y_pred_best = clf_best_ridge.predict(df_test)\n",
        "print(f1_score(y_test,y_pred_best,average=\"micro\"))"
      ],
      "metadata": {
        "colab": {
          "base_uri": "https://localhost:8080/"
        },
        "id": "VCDA1hMp2iKR",
        "outputId": "8da6ff61-7a29-429a-abc9-dc3880ba14d7"
      },
      "execution_count": null,
      "outputs": [
        {
          "output_type": "stream",
          "name": "stdout",
          "text": [
            "0.7838461538461537\n"
          ]
        }
      ]
    },
    {
      "cell_type": "code",
      "source": [
        "from sklearn.linear_model import LogisticRegressionCV\n",
        "C_array = np.logspace(-2,2,100)\n",
        "clf_l1 = LogisticRegressionCV(max_iter= 1000000, Cs=C_array, cv = 2, penalty = 'l1', scoring = 'f1_micro', solver = 'liblinear')\n",
        "clf_l1.fit(df_train,y_train)\n",
        "\n",
        "##  Optimal C value and corresponding coefficients\n",
        "print('Best C value', clf_l1.C_)\n",
        "print('Best fit coefficients', clf_l1.coef_)\n"
      ],
      "metadata": {
        "colab": {
          "base_uri": "https://localhost:8080/"
        },
        "id": "fVJmtsRM2iNi",
        "outputId": "8d0d00fc-71a6-4f5e-d769-4c59e5d67f5b"
      },
      "execution_count": null,
      "outputs": [
        {
          "output_type": "stream",
          "name": "stdout",
          "text": [
            "Best C value [0.01       0.01       0.28480359 0.07054802 0.01       0.01      ]\n",
            "Best fit coefficients [[ 0.          0.          0.          0.          0.          0.\n",
            "   0.          0.          0.          0.          0.          0.\n",
            "   0.        ]\n",
            " [ 0.          0.01097149  0.          0.          0.          0.\n",
            "   0.          0.          0.          0.          0.          0.\n",
            "   0.        ]\n",
            " [-0.48731791  0.06768343 -0.00866239 -0.7024365   0.05676476 -0.13461909\n",
            "   0.2544699   0.91875728 -0.32065822 -0.24576022 -0.30072654 -0.05030185\n",
            "   0.15856169]\n",
            " [ 0.02013372 -0.55740646  0.          0.11290958 -0.16801586  0.07550584\n",
            "  -0.17994056  0.          0.04012601  0.25433093  0.76722455  0.13797612\n",
            "  -0.02290369]\n",
            " [ 0.          0.          0.          0.          0.          0.\n",
            "   0.          0.          0.          0.          0.07826362  0.\n",
            "   0.        ]\n",
            " [ 0.          0.          0.          0.          0.          0.\n",
            "   0.          0.          0.          0.          0.          0.\n",
            "   0.        ]]\n"
          ]
        }
      ]
    },
    {
      "cell_type": "code",
      "source": [
        "y_pred_best = clf_l1.predict(df_val)\n",
        "print(f1_score(y_val,y_pred_best,average=\"micro\"))"
      ],
      "metadata": {
        "colab": {
          "base_uri": "https://localhost:8080/"
        },
        "id": "rx6-DvKG9Wxo",
        "outputId": "3453f4c4-2558-4d58-beb3-fb511c844779"
      },
      "execution_count": null,
      "outputs": [
        {
          "output_type": "stream",
          "name": "stdout",
          "text": [
            "0.7484615384615385\n"
          ]
        }
      ]
    },
    {
      "cell_type": "code",
      "source": [
        "y_pred_best = clf_l1.predict(df_test)\n",
        "print(f1_score(y_test,y_pred_best,average=\"micro\"))"
      ],
      "metadata": {
        "colab": {
          "base_uri": "https://localhost:8080/"
        },
        "id": "3n4D5RGtiKhy",
        "outputId": "457351b1-e394-465c-f5f4-4c908a193ad1"
      },
      "execution_count": null,
      "outputs": [
        {
          "output_type": "stream",
          "name": "stdout",
          "text": [
            "0.7884615384615384\n"
          ]
        }
      ]
    },
    {
      "cell_type": "markdown",
      "source": [
        "Best result of f1 score 0.7884615384615384\n",
        "\n"
      ],
      "metadata": {
        "id": "47D_5glJ-lnm"
      }
    }
  ]
}