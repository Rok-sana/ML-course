{
  "nbformat": 4,
  "nbformat_minor": 0,
  "metadata": {
    "colab": {
      "provenance": [],
      "authorship_tag": "ABX9TyMC+QvyB5aknAWHl4N9RekF",
      "include_colab_link": true
    },
    "kernelspec": {
      "name": "python3",
      "display_name": "Python 3"
    },
    "language_info": {
      "name": "python"
    }
  },
  "cells": [
    {
      "cell_type": "markdown",
      "metadata": {
        "id": "view-in-github",
        "colab_type": "text"
      },
      "source": [
        "<a href=\"https://colab.research.google.com/github/Rok-sana/ML-course/blob/main/Homework_15.ipynb\" target=\"_parent\"><img src=\"https://colab.research.google.com/assets/colab-badge.svg\" alt=\"Open In Colab\"/></a>"
      ]
    },
    {
      "cell_type": "code",
      "execution_count": null,
      "metadata": {
        "id": "y1i-GHBZP_ko"
      },
      "outputs": [],
      "source": [
        "import numpy\n",
        "from keras.datasets import imdb\n",
        "from keras.models import Sequential\n",
        "from keras.layers import Dense\n",
        "from keras.layers import LSTM , SimpleRNN, Embedding\n",
        "from keras.preprocessing import sequence\n",
        "from keras.utils import pad_sequences"
      ]
    },
    {
      "cell_type": "code",
      "source": [
        "# load the dataset but only keep the top n words, zero the rest\n",
        "top_words = 5000\n",
        "(X_train, y_train), (X_test, y_test) = imdb.load_data(num_words=top_words)"
      ],
      "metadata": {
        "id": "FLSqwEaoQwAL"
      },
      "execution_count": null,
      "outputs": []
    },
    {
      "cell_type": "code",
      "source": [
        "print(X_train[11])\n",
        "print('The lenght of the sentence:',len(X_train[11]))\n",
        "print('Train data shape: ',X_train.shape)\n",
        "print('Test data shape: ',X_test.shape)"
      ],
      "metadata": {
        "colab": {
          "base_uri": "https://localhost:8080/"
        },
        "id": "bpzrS5DCRO79",
        "outputId": "e198b2fb-c28e-480e-8a37-02d695c72771"
      },
      "execution_count": null,
      "outputs": [
        {
          "output_type": "stream",
          "name": "stdout",
          "text": [
            "[1, 54, 13, 1610, 14, 20, 13, 69, 55, 364, 1398, 21, 54, 13, 219, 12, 13, 1706, 15, 4, 20, 16, 329, 6, 176, 329, 74, 51, 13, 873, 4, 156, 71, 78, 4, 2, 322, 16, 31, 7, 4, 249, 4, 65, 16, 38, 379, 12, 100, 157, 18, 6, 910, 20, 549, 18, 4, 1496, 21, 14, 31, 9, 24, 6, 212, 12, 9, 6, 1322, 991, 7, 3002, 4, 425, 9, 73, 2218, 549, 18, 31, 155, 36, 100, 763, 379, 20, 103, 351, 2, 13, 202, 12, 2241, 5, 6, 320, 46, 7, 457]\n",
            "The lenght of the sentence: 99\n",
            "Train data shape:  (25000,)\n",
            "Test data shape:  (25000,)\n"
          ]
        }
      ]
    },
    {
      "cell_type": "code",
      "source": [
        "max_review_length = 200\n",
        "X_train = pad_sequences(X_train, maxlen=max_review_length)\n",
        "X_test =pad_sequences(X_test, maxlen=max_review_length)\n",
        "\n",
        "print(X_train.shape)\n",
        "print(X_train[1])"
      ],
      "metadata": {
        "colab": {
          "base_uri": "https://localhost:8080/"
        },
        "id": "xskD2xSYRZfK",
        "outputId": "4a8b4495-0af8-40cd-97a2-d90238ffcaa4"
      },
      "execution_count": null,
      "outputs": [
        {
          "output_type": "stream",
          "name": "stdout",
          "text": [
            "(25000, 200)\n",
            "[   0    0    0    0    0    0    0    0    0    0    0    1  194 1153\n",
            "  194    2   78  228    5    6 1463 4369    2  134   26    4  715    8\n",
            "  118 1634   14  394   20   13  119  954  189  102    5  207  110 3103\n",
            "   21   14   69  188    8   30   23    7    4  249  126   93    4  114\n",
            "    9 2300 1523    5  647    4  116    9   35    2    4  229    9  340\n",
            " 1322    4  118    9    4  130 4901   19    4 1002    5   89   29  952\n",
            "   46   37    4  455    9   45   43   38 1543 1905  398    4 1649   26\n",
            "    2    5  163   11 3215    2    4 1153    9  194  775    7    2    2\n",
            "  349 2637  148  605    2    2   15  123  125   68    2    2   15  349\n",
            "  165 4362   98    5    4  228    9   43    2 1157   15  299  120    5\n",
            "  120  174   11  220  175  136   50    9 4373  228    2    5    2  656\n",
            "  245 2350    5    4    2  131  152  491   18    2   32    2 1212   14\n",
            "    9    6  371   78   22  625   64 1382    9    8  168  145   23    4\n",
            " 1690   15   16    4 1355    5   28    6   52  154  462   33   89   78\n",
            "  285   16  145   95]\n"
          ]
        }
      ]
    },
    {
      "cell_type": "code",
      "source": [
        "# create the model\n",
        "embedding_vecor_length = 32\n",
        "model = Sequential()\n",
        "model.add(Embedding(top_words, embedding_vecor_length, input_length=max_review_length))\n",
        "model.add(SimpleRNN(100))\n",
        "model.add(Dense(1, activation='sigmoid'))\n",
        "model.compile(loss='binary_crossentropy', optimizer='adam', metrics=['accuracy'])\n",
        "print(model.summary())"
      ],
      "metadata": {
        "colab": {
          "base_uri": "https://localhost:8080/"
        },
        "id": "3WxWoM3JRtVl",
        "outputId": "1b77944f-9c1a-42b4-c22b-60280bcb82e8"
      },
      "execution_count": null,
      "outputs": [
        {
          "output_type": "stream",
          "name": "stdout",
          "text": [
            "Model: \"sequential\"\n",
            "_________________________________________________________________\n",
            " Layer (type)                Output Shape              Param #   \n",
            "=================================================================\n",
            " embedding (Embedding)       (None, 200, 32)           160000    \n",
            "                                                                 \n",
            " simple_rnn (SimpleRNN)      (None, 100)               13300     \n",
            "                                                                 \n",
            " dense (Dense)               (None, 1)                 101       \n",
            "                                                                 \n",
            "=================================================================\n",
            "Total params: 173,401\n",
            "Trainable params: 173,401\n",
            "Non-trainable params: 0\n",
            "_________________________________________________________________\n",
            "None\n"
          ]
        }
      ]
    },
    {
      "cell_type": "code",
      "source": [
        "import keras\n",
        "his = keras.callbacks.History()\n",
        "call = [his]\n",
        "model.fit(X_train, y_train, epochs=10,validation_data = (X_train, y_train), batch_size=264 , verbose= 2 , callbacks = call)"
      ],
      "metadata": {
        "colab": {
          "base_uri": "https://localhost:8080/"
        },
        "id": "VIWfowJLRzLy",
        "outputId": "f19c6b65-00e3-416a-f444-7cfe29ff0061"
      },
      "execution_count": null,
      "outputs": [
        {
          "output_type": "stream",
          "name": "stdout",
          "text": [
            "Epoch 1/10\n",
            "95/95 - 33s - loss: 0.6836 - accuracy: 0.5466 - val_loss: 0.6473 - val_accuracy: 0.6727 - 33s/epoch - 346ms/step\n",
            "Epoch 2/10\n",
            "95/95 - 30s - loss: 0.4982 - accuracy: 0.7558 - val_loss: 0.4472 - val_accuracy: 0.8036 - 30s/epoch - 314ms/step\n",
            "Epoch 3/10\n",
            "95/95 - 30s - loss: 0.3719 - accuracy: 0.8412 - val_loss: 0.3303 - val_accuracy: 0.8661 - 30s/epoch - 321ms/step\n",
            "Epoch 4/10\n",
            "95/95 - 30s - loss: 0.3197 - accuracy: 0.8683 - val_loss: 0.2812 - val_accuracy: 0.8900 - 30s/epoch - 318ms/step\n",
            "Epoch 5/10\n",
            "95/95 - 30s - loss: 0.2910 - accuracy: 0.8825 - val_loss: 0.2840 - val_accuracy: 0.8844 - 30s/epoch - 319ms/step\n",
            "Epoch 6/10\n",
            "95/95 - 30s - loss: 0.2772 - accuracy: 0.8881 - val_loss: 0.2362 - val_accuracy: 0.9094 - 30s/epoch - 311ms/step\n",
            "Epoch 7/10\n",
            "95/95 - 26s - loss: 0.3015 - accuracy: 0.8745 - val_loss: 0.2389 - val_accuracy: 0.9080 - 26s/epoch - 275ms/step\n",
            "Epoch 8/10\n",
            "95/95 - 26s - loss: 0.2611 - accuracy: 0.8978 - val_loss: 0.2278 - val_accuracy: 0.9138 - 26s/epoch - 276ms/step\n",
            "Epoch 9/10\n",
            "95/95 - 30s - loss: 0.2733 - accuracy: 0.8916 - val_loss: 0.2237 - val_accuracy: 0.9184 - 30s/epoch - 314ms/step\n",
            "Epoch 10/10\n",
            "95/95 - 30s - loss: 0.2396 - accuracy: 0.9075 - val_loss: 0.2193 - val_accuracy: 0.9136 - 30s/epoch - 312ms/step\n"
          ]
        },
        {
          "output_type": "execute_result",
          "data": {
            "text/plain": [
              "<keras.callbacks.History at 0x7fc1f1746070>"
            ]
          },
          "metadata": {},
          "execution_count": 6
        }
      ]
    },
    {
      "cell_type": "code",
      "source": [
        "import matplotlib.pyplot as plt\n",
        "plt.plot(his.history['accuracy'])  \n",
        "plt.plot(his.history['val_accuracy'])  \n",
        "plt.title('model accuracy')  \n",
        "plt.ylabel('accuracy')  \n",
        "plt.xlabel('epoch')\n",
        "plt.grid()  \n",
        "plt.legend(['train', 'test'])  \n",
        "plt.show()"
      ],
      "metadata": {
        "colab": {
          "base_uri": "https://localhost:8080/",
          "height": 295
        },
        "id": "D3XVI16UTPfp",
        "outputId": "4f66dc6a-bbb5-432a-858f-85128fac3cbe"
      },
      "execution_count": null,
      "outputs": [
        {
          "output_type": "display_data",
          "data": {
            "text/plain": [
              "<Figure size 432x288 with 1 Axes>"
            ],
            "image/png": "[encoded data removed]"
          },
          "metadata": {
            "needs_background": "light"
          }
        }
      ]
    },
    {
      "cell_type": "code",
      "source": [
        "import matplotlib.pyplot as plt\n",
        "plt.plot(his.history['loss'])  \n",
        "plt.plot(his.history['val_loss'])  \n",
        "plt.title('model loss')  \n",
        "plt.ylabel('loss')  \n",
        "plt.xlabel('epoch')\n",
        "plt.grid()  \n",
        "plt.legend(['train', 'test'])  \n",
        "plt.show()"
      ],
      "metadata": {
        "colab": {
          "base_uri": "https://localhost:8080/",
          "height": 295
        },
        "id": "xmKcRLSzTg_R",
        "outputId": "f5d55e88-3568-46fc-ee48-ffbb3cb30f0a"
      },
      "execution_count": null,
      "outputs": [
        {
          "output_type": "display_data",
          "data": {
            "text/plain": [
              "<Figure size 432x288 with 1 Axes>"
            ],
            "image/png": "[encoded data removed]"
          },
          "metadata": {
            "needs_background": "light"
          }
        }
      ]
    },
    {
      "cell_type": "code",
      "source": [
        "scores = model.evaluate(X_test, y_test, verbose=0)\n",
        "print(\"Accuracy: %.2f%%\" % (scores[1]*100))"
      ],
      "metadata": {
        "colab": {
          "base_uri": "https://localhost:8080/"
        },
        "id": "y8IHK7SMTndB",
        "outputId": "65056de3-8c73-4c53-c663-22b886214503"
      },
      "execution_count": null,
      "outputs": [
        {
          "output_type": "stream",
          "name": "stdout",
          "text": [
            "Accuracy: 84.06%\n"
          ]
        }
      ]
    },
    {
      "cell_type": "markdown",
      "source": [
        "**Conclusion**"
      ],
      "metadata": {
        "id": "gUNzeHoRV_BB"
      }
    },
    {
      "cell_type": "markdown",
      "source": [
        "In this example it has been applied SimpleRNN\n",
        "\n",
        "\n"
      ],
      "metadata": {
        "id": "XfRE6cGDWMaE"
      }
    }
  ]
}