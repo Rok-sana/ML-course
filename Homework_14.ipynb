{
  "nbformat": 4,
  "nbformat_minor": 0,
  "metadata": {
    "colab": {
      "provenance": [],
      "authorship_tag": "ABX9TyNfDJv7LK8cRM1fXR1q68o/",
      "include_colab_link": true
    },
    "kernelspec": {
      "name": "python3",
      "display_name": "Python 3"
    },
    "language_info": {
      "name": "python"
    }
  },
  "cells": [
    {
      "cell_type": "markdown",
      "metadata": {
        "id": "view-in-github",
        "colab_type": "text"
      },
      "source": [
        "<a href=\"https://colab.research.google.com/github/Rok-sana/ML-course/blob/main/Homework_14.ipynb\" target=\"_parent\"><img src=\"https://colab.research.google.com/assets/colab-badge.svg\" alt=\"Open In Colab\"/></a>"
      ]
    },
    {
      "cell_type": "code",
      "execution_count": null,
      "metadata": {
        "id": "VrByiSLCHFB4"
      },
      "outputs": [],
      "source": [
        "import numpy as np\n",
        "import keras \n",
        "from keras.layers import Dense,Flatten, Dropout,Conv2D,MaxPooling2D,Activation\n",
        "from keras.models import Sequential\n",
        "from keras.regularizers import l2\n",
        "from keras.datasets import mnist\n",
        "import matplotlib.pyplot as plt"
      ]
    },
    {
      "cell_type": "code",
      "source": [
        "(x_train, y_train), (x_test, y_test) = mnist.load_data()"
      ],
      "metadata": {
        "id": "yO4GosY2HYJP"
      },
      "execution_count": null,
      "outputs": []
    },
    {
      "cell_type": "markdown",
      "source": [
        "**Preprocessing**"
      ],
      "metadata": {
        "id": "GNRwEK0DHoWe"
      }
    },
    {
      "cell_type": "code",
      "source": [
        "print(\"X_train shape : {}\".format(x_train.shape))\n",
        "print(\"X_test shape  : {}\".format(x_test.shape))\n",
        "print(\"y_train shape : {}\".format(y_train.shape))\n",
        "print(\"y_test shape  : {}\".format(y_test.shape))  "
      ],
      "metadata": {
        "colab": {
          "base_uri": "https://localhost:8080/"
        },
        "id": "5v1jdDL6Hpry",
        "outputId": "7602fccf-7149-403d-d869-36162ce33f98"
      },
      "execution_count": null,
      "outputs": [
        {
          "output_type": "stream",
          "name": "stdout",
          "text": [
            "X_train shape : (60000, 28, 28)\n",
            "X_test shape  : (10000, 28, 28)\n",
            "y_train shape : (60000,)\n",
            "y_test shape  : (10000,)\n"
          ]
        }
      ]
    },
    {
      "cell_type": "code",
      "source": [
        "x_train = x_train.reshape(60000, 28, 28, 1).astype('float32')\n",
        "x_test  = x_test.reshape(10000, 28, 28, 1).astype('float32')\n",
        "\n",
        "x_train /= 255\n",
        "x_test /= 255"
      ],
      "metadata": {
        "id": "vveMjw-CHvST"
      },
      "execution_count": null,
      "outputs": []
    },
    {
      "cell_type": "code",
      "source": [
        "print(\"X_train shape : {}\".format(x_train.shape))\n",
        "print(\"X_test shape  : {}\".format(x_test.shape))"
      ],
      "metadata": {
        "colab": {
          "base_uri": "https://localhost:8080/"
        },
        "id": "7QI3iwTaHxzZ",
        "outputId": "9624ca71-db8c-4d08-d84e-64cdb31b83f6"
      },
      "execution_count": null,
      "outputs": [
        {
          "output_type": "stream",
          "name": "stdout",
          "text": [
            "X_train shape : (60000, 28, 28, 1)\n",
            "X_test shape  : (10000, 28, 28, 1)\n"
          ]
        }
      ]
    },
    {
      "cell_type": "markdown",
      "source": [
        "Convert Labels to Categorical"
      ],
      "metadata": {
        "id": "IUuIbJLOH32l"
      }
    },
    {
      "cell_type": "code",
      "source": [
        "n_classes = 10 #because we have 10 output\n",
        "\n",
        "y_train = keras.utils.to_categorical(y_train, n_classes)\n",
        "y_test = keras.utils.to_categorical(y_test, n_classes)"
      ],
      "metadata": {
        "id": "o-wktxGDHyiu"
      },
      "execution_count": null,
      "outputs": []
    },
    {
      "cell_type": "code",
      "source": [
        "y_train[0]"
      ],
      "metadata": {
        "colab": {
          "base_uri": "https://localhost:8080/"
        },
        "id": "P6e4_wKFH-zz",
        "outputId": "c132636a-85de-469f-910a-01457e79c075"
      },
      "execution_count": null,
      "outputs": [
        {
          "output_type": "execute_result",
          "data": {
            "text/plain": [
              "array([0., 0., 0., 0., 0., 1., 0., 0., 0., 0.], dtype=float32)"
            ]
          },
          "metadata": {},
          "execution_count": 7
        }
      ]
    },
    {
      "cell_type": "code",
      "source": [
        "model = Sequential()"
      ],
      "metadata": {
        "id": "EbsRIxzLH_Gj"
      },
      "execution_count": null,
      "outputs": []
    },
    {
      "cell_type": "code",
      "source": [
        "model = Sequential()\n",
        "model.add(Conv2D(32, (3, 3),padding='same' ,activation='relu',input_shape=(28, 28, 1), kernel_regularizer=l2(0.01)))\n",
        "model.add(MaxPooling2D((2, 2)))\n",
        "model.add(Dropout(0.25))\n",
        "\n",
        "model.add(Conv2D(64, (3, 3), activation='relu'))\n",
        "model.add(MaxPooling2D((2, 2)))\n",
        "model.add(Dropout(0.25))\n",
        "\n",
        "model.add(Conv2D(64, (3, 3), activation='relu'))\n",
        "model.add(MaxPooling2D((2, 2)))\n",
        "model.add(Dropout(0.25))\n",
        "          \n",
        "model.add(Flatten())\n",
        "model.add(Dense(64, activation='relu',kernel_regularizer=l2(0.01)))\n",
        "model.add(Dropout(0.5))\n",
        "model.add(Dense(10, activation='softmax'))"
      ],
      "metadata": {
        "id": "gKDX3gxFIEtZ"
      },
      "execution_count": null,
      "outputs": []
    },
    {
      "cell_type": "code",
      "source": [
        "model.summary()"
      ],
      "metadata": {
        "colab": {
          "base_uri": "https://localhost:8080/"
        },
        "id": "6mnAQdxZIHBb",
        "outputId": "54b677af-a79c-4db2-d897-988d788540fc"
      },
      "execution_count": null,
      "outputs": [
        {
          "output_type": "stream",
          "name": "stdout",
          "text": [
            "Model: \"sequential_1\"\n",
            "_________________________________________________________________\n",
            " Layer (type)                Output Shape              Param #   \n",
            "=================================================================\n",
            " conv2d (Conv2D)             (None, 28, 28, 32)        320       \n",
            "                                                                 \n",
            " max_pooling2d (MaxPooling2D  (None, 14, 14, 32)       0         \n",
            " )                                                               \n",
            "                                                                 \n",
            " dropout (Dropout)           (None, 14, 14, 32)        0         \n",
            "                                                                 \n",
            " conv2d_1 (Conv2D)           (None, 12, 12, 64)        18496     \n",
            "                                                                 \n",
            " max_pooling2d_1 (MaxPooling  (None, 6, 6, 64)         0         \n",
            " 2D)                                                             \n",
            "                                                                 \n",
            " dropout_1 (Dropout)         (None, 6, 6, 64)          0         \n",
            "                                                                 \n",
            " conv2d_2 (Conv2D)           (None, 4, 4, 64)          36928     \n",
            "                                                                 \n",
            " max_pooling2d_2 (MaxPooling  (None, 2, 2, 64)         0         \n",
            " 2D)                                                             \n",
            "                                                                 \n",
            " dropout_2 (Dropout)         (None, 2, 2, 64)          0         \n",
            "                                                                 \n",
            " flatten (Flatten)           (None, 256)               0         \n",
            "                                                                 \n",
            " dense (Dense)               (None, 64)                16448     \n",
            "                                                                 \n",
            " dropout_3 (Dropout)         (None, 64)                0         \n",
            "                                                                 \n",
            " dense_1 (Dense)             (None, 10)                650       \n",
            "                                                                 \n",
            "=================================================================\n",
            "Total params: 72,842\n",
            "Trainable params: 72,842\n",
            "Non-trainable params: 0\n",
            "_________________________________________________________________\n"
          ]
        }
      ]
    },
    {
      "cell_type": "code",
      "source": [
        "model.compile(loss='categorical_crossentropy', optimizer='RMSprop', metrics=['accuracy'])"
      ],
      "metadata": {
        "id": "6W-bbJtWIJOv"
      },
      "execution_count": null,
      "outputs": []
    },
    {
      "cell_type": "code",
      "source": [
        "y_test.shape"
      ],
      "metadata": {
        "colab": {
          "base_uri": "https://localhost:8080/"
        },
        "id": "_M3B03k_Ile4",
        "outputId": "9e28c51d-c6b3-4b1e-e114-9d9794dc6ba3"
      },
      "execution_count": null,
      "outputs": [
        {
          "output_type": "execute_result",
          "data": {
            "text/plain": [
              "(10000, 10)"
            ]
          },
          "metadata": {},
          "execution_count": 12
        }
      ]
    },
    {
      "cell_type": "code",
      "source": [
        "model.fit(x_train, y_train, epochs=50, batch_size=128 ,validation_data=(x_test, y_test))"
      ],
      "metadata": {
        "colab": {
          "base_uri": "https://localhost:8080/"
        },
        "id": "LtOyBG9DIL3y",
        "outputId": "6d3d5651-05a7-46f6-edf8-8c210dd10086"
      },
      "execution_count": null,
      "outputs": [
        {
          "output_type": "stream",
          "name": "stdout",
          "text": [
            "Epoch 1/50\n",
            "469/469 [==============================] - 73s 152ms/step - loss: 0.9075 - accuracy: 0.8093 - val_loss: 0.2412 - val_accuracy: 0.9712\n",
            "Epoch 2/50\n",
            "469/469 [==============================] - 60s 129ms/step - loss: 0.2962 - accuracy: 0.9441 - val_loss: 0.1375 - val_accuracy: 0.9813\n",
            "Epoch 3/50\n",
            "469/469 [==============================] - 62s 133ms/step - loss: 0.2228 - accuracy: 0.9570 - val_loss: 0.1121 - val_accuracy: 0.9845\n",
            "Epoch 4/50\n",
            "469/469 [==============================] - 61s 131ms/step - loss: 0.1914 - accuracy: 0.9622 - val_loss: 0.0989 - val_accuracy: 0.9867\n",
            "Epoch 5/50\n",
            "469/469 [==============================] - 60s 128ms/step - loss: 0.1727 - accuracy: 0.9657 - val_loss: 0.0889 - val_accuracy: 0.9887\n",
            "Epoch 6/50\n",
            "469/469 [==============================] - 60s 128ms/step - loss: 0.1582 - accuracy: 0.9686 - val_loss: 0.0828 - val_accuracy: 0.9888\n",
            "Epoch 7/50\n",
            "469/469 [==============================] - 59s 126ms/step - loss: 0.1516 - accuracy: 0.9708 - val_loss: 0.0816 - val_accuracy: 0.9881\n",
            "Epoch 8/50\n",
            "469/469 [==============================] - 64s 136ms/step - loss: 0.1420 - accuracy: 0.9723 - val_loss: 0.0783 - val_accuracy: 0.9900\n",
            "Epoch 9/50\n",
            "469/469 [==============================] - 62s 132ms/step - loss: 0.1370 - accuracy: 0.9735 - val_loss: 0.0753 - val_accuracy: 0.9896\n",
            "Epoch 10/50\n",
            "469/469 [==============================] - 61s 130ms/step - loss: 0.1332 - accuracy: 0.9742 - val_loss: 0.0699 - val_accuracy: 0.9906\n",
            "Epoch 11/50\n",
            "469/469 [==============================] - 60s 127ms/step - loss: 0.1284 - accuracy: 0.9746 - val_loss: 0.0715 - val_accuracy: 0.9891\n",
            "Epoch 12/50\n",
            "469/469 [==============================] - 59s 126ms/step - loss: 0.1259 - accuracy: 0.9761 - val_loss: 0.0700 - val_accuracy: 0.9903\n",
            "Epoch 13/50\n",
            "469/469 [==============================] - 59s 126ms/step - loss: 0.1220 - accuracy: 0.9768 - val_loss: 0.0660 - val_accuracy: 0.9913\n",
            "Epoch 14/50\n",
            "469/469 [==============================] - 58s 123ms/step - loss: 0.1199 - accuracy: 0.9773 - val_loss: 0.0678 - val_accuracy: 0.9901\n",
            "Epoch 15/50\n",
            "469/469 [==============================] - 58s 124ms/step - loss: 0.1177 - accuracy: 0.9770 - val_loss: 0.0655 - val_accuracy: 0.9906\n",
            "Epoch 16/50\n",
            "469/469 [==============================] - 59s 127ms/step - loss: 0.1147 - accuracy: 0.9774 - val_loss: 0.0629 - val_accuracy: 0.9920\n",
            "Epoch 17/50\n",
            "469/469 [==============================] - 59s 125ms/step - loss: 0.1118 - accuracy: 0.9789 - val_loss: 0.0755 - val_accuracy: 0.9867\n",
            "Epoch 18/50\n",
            "469/469 [==============================] - 59s 126ms/step - loss: 0.1117 - accuracy: 0.9784 - val_loss: 0.0687 - val_accuracy: 0.9900\n",
            "Epoch 19/50\n",
            "469/469 [==============================] - 62s 132ms/step - loss: 0.1074 - accuracy: 0.9791 - val_loss: 0.0659 - val_accuracy: 0.9900\n",
            "Epoch 20/50\n",
            "469/469 [==============================] - 61s 130ms/step - loss: 0.1092 - accuracy: 0.9792 - val_loss: 0.0642 - val_accuracy: 0.9903\n",
            "Epoch 21/50\n",
            "469/469 [==============================] - 61s 129ms/step - loss: 0.1052 - accuracy: 0.9803 - val_loss: 0.0597 - val_accuracy: 0.9916\n",
            "Epoch 22/50\n",
            "469/469 [==============================] - 60s 129ms/step - loss: 0.1030 - accuracy: 0.9808 - val_loss: 0.0689 - val_accuracy: 0.9899\n",
            "Epoch 23/50\n",
            "469/469 [==============================] - 59s 126ms/step - loss: 0.1044 - accuracy: 0.9804 - val_loss: 0.0601 - val_accuracy: 0.9916\n",
            "Epoch 24/50\n",
            "469/469 [==============================] - 61s 131ms/step - loss: 0.1008 - accuracy: 0.9810 - val_loss: 0.0556 - val_accuracy: 0.9923\n",
            "Epoch 25/50\n",
            "469/469 [==============================] - 59s 126ms/step - loss: 0.1031 - accuracy: 0.9808 - val_loss: 0.0621 - val_accuracy: 0.9911\n",
            "Epoch 26/50\n",
            "469/469 [==============================] - 61s 131ms/step - loss: 0.0997 - accuracy: 0.9814 - val_loss: 0.0599 - val_accuracy: 0.9909\n",
            "Epoch 27/50\n",
            "469/469 [==============================] - 61s 131ms/step - loss: 0.1039 - accuracy: 0.9804 - val_loss: 0.0610 - val_accuracy: 0.9907\n",
            "Epoch 28/50\n",
            "469/469 [==============================] - 58s 124ms/step - loss: 0.1016 - accuracy: 0.9808 - val_loss: 0.0601 - val_accuracy: 0.9912\n",
            "Epoch 29/50\n",
            "469/469 [==============================] - 58s 124ms/step - loss: 0.1001 - accuracy: 0.9811 - val_loss: 0.0535 - val_accuracy: 0.9932\n",
            "Epoch 30/50\n",
            "469/469 [==============================] - 60s 128ms/step - loss: 0.0991 - accuracy: 0.9824 - val_loss: 0.0551 - val_accuracy: 0.9919\n",
            "Epoch 31/50\n",
            "469/469 [==============================] - 58s 124ms/step - loss: 0.0987 - accuracy: 0.9821 - val_loss: 0.0568 - val_accuracy: 0.9927\n",
            "Epoch 32/50\n",
            "469/469 [==============================] - 59s 126ms/step - loss: 0.0982 - accuracy: 0.9823 - val_loss: 0.0575 - val_accuracy: 0.9925\n",
            "Epoch 33/50\n",
            "469/469 [==============================] - 58s 125ms/step - loss: 0.0988 - accuracy: 0.9818 - val_loss: 0.0598 - val_accuracy: 0.9904\n",
            "Epoch 34/50\n",
            "469/469 [==============================] - 59s 125ms/step - loss: 0.0961 - accuracy: 0.9826 - val_loss: 0.0561 - val_accuracy: 0.9915\n",
            "Epoch 35/50\n",
            "469/469 [==============================] - 57s 121ms/step - loss: 0.0950 - accuracy: 0.9826 - val_loss: 0.0549 - val_accuracy: 0.9926\n",
            "Epoch 36/50\n",
            "469/469 [==============================] - 68s 144ms/step - loss: 0.0947 - accuracy: 0.9818 - val_loss: 0.0559 - val_accuracy: 0.9920\n",
            "Epoch 37/50\n",
            "469/469 [==============================] - 58s 124ms/step - loss: 0.0970 - accuracy: 0.9819 - val_loss: 0.0591 - val_accuracy: 0.9912\n",
            "Epoch 38/50\n",
            "469/469 [==============================] - 60s 129ms/step - loss: 0.0944 - accuracy: 0.9827 - val_loss: 0.0564 - val_accuracy: 0.9923\n",
            "Epoch 39/50\n",
            "469/469 [==============================] - 60s 128ms/step - loss: 0.0955 - accuracy: 0.9826 - val_loss: 0.0524 - val_accuracy: 0.9931\n",
            "Epoch 40/50\n",
            "469/469 [==============================] - 58s 124ms/step - loss: 0.0925 - accuracy: 0.9830 - val_loss: 0.0553 - val_accuracy: 0.9916\n",
            "Epoch 41/50\n",
            "469/469 [==============================] - 58s 124ms/step - loss: 0.0921 - accuracy: 0.9833 - val_loss: 0.0526 - val_accuracy: 0.9925\n",
            "Epoch 42/50\n",
            "469/469 [==============================] - 58s 124ms/step - loss: 0.0950 - accuracy: 0.9825 - val_loss: 0.0549 - val_accuracy: 0.9931\n",
            "Epoch 43/50\n",
            "469/469 [==============================] - 59s 125ms/step - loss: 0.0926 - accuracy: 0.9838 - val_loss: 0.0538 - val_accuracy: 0.9925\n",
            "Epoch 44/50\n",
            "469/469 [==============================] - 58s 124ms/step - loss: 0.0945 - accuracy: 0.9826 - val_loss: 0.0521 - val_accuracy: 0.9930\n",
            "Epoch 45/50\n",
            "469/469 [==============================] - 59s 127ms/step - loss: 0.0934 - accuracy: 0.9828 - val_loss: 0.0562 - val_accuracy: 0.9921\n",
            "Epoch 46/50\n",
            "469/469 [==============================] - 60s 129ms/step - loss: 0.0919 - accuracy: 0.9827 - val_loss: 0.0530 - val_accuracy: 0.9925\n",
            "Epoch 47/50\n",
            "469/469 [==============================] - 61s 131ms/step - loss: 0.0909 - accuracy: 0.9834 - val_loss: 0.0531 - val_accuracy: 0.9933\n",
            "Epoch 48/50\n",
            "469/469 [==============================] - 60s 128ms/step - loss: 0.0927 - accuracy: 0.9829 - val_loss: 0.0533 - val_accuracy: 0.9927\n",
            "Epoch 49/50\n",
            "469/469 [==============================] - 60s 129ms/step - loss: 0.0912 - accuracy: 0.9835 - val_loss: 0.0530 - val_accuracy: 0.9928\n",
            "Epoch 50/50\n",
            "469/469 [==============================] - 58s 124ms/step - loss: 0.0907 - accuracy: 0.9834 - val_loss: 0.0555 - val_accuracy: 0.9928\n"
          ]
        },
        {
          "output_type": "execute_result",
          "data": {
            "text/plain": [
              "<keras.callbacks.History at 0x7fd06c03da60>"
            ]
          },
          "metadata": {},
          "execution_count": 13
        }
      ]
    },
    {
      "cell_type": "code",
      "source": [
        "plt.plot(model.history.history['accuracy'])\n",
        "plt.plot(model.history.history['val_accuracy'])\n",
        "plt.title('Model accuracy')\n",
        "plt.ylabel('accuracy')\n",
        "plt.xlabel('epoch')\n",
        "plt.legend(['train', 'val'])\n",
        "plt.show()"
      ],
      "metadata": {
        "colab": {
          "base_uri": "https://localhost:8080/",
          "height": 295
        },
        "id": "jn80emI_aact",
        "outputId": "f2e915e9-5718-4413-f616-3aeac9a8fd80"
      },
      "execution_count": null,
      "outputs": [
        {
          "output_type": "display_data",
          "data": {
            "text/plain": [
              "<Figure size 432x288 with 1 Axes>"
            ],
            "image/png": "[encoded data removed]"
          },
          "metadata": {
            "needs_background": "light"
          }
        }
      ]
    },
    {
      "cell_type": "code",
      "source": [
        "plt.plot(model.history.history['loss'])\n",
        "plt.plot(model.history.history['val_loss'])\n",
        "plt.title('Model loss')\n",
        "plt.ylabel('loss')\n",
        "plt.xlabel('epoch')\n",
        "plt.legend(['train', 'val'], loc='upper right')\n",
        "plt.show()"
      ],
      "metadata": {
        "colab": {
          "base_uri": "https://localhost:8080/",
          "height": 295
        },
        "id": "q2_2mnMTauXg",
        "outputId": "3aabd8a5-d22a-4073-b9fc-eb809f038c3f"
      },
      "execution_count": null,
      "outputs": [
        {
          "output_type": "display_data",
          "data": {
            "text/plain": [
              "<Figure size 432x288 with 1 Axes>"
            ],
            "image/png": "[encoded data removed]"
          },
          "metadata": {
            "needs_background": "light"
          }
        }
      ]
    },
    {
      "cell_type": "markdown",
      "source": [
        "**Conclusion**"
      ],
      "metadata": {
        "id": "o6yxyK8Jb3qS"
      }
    },
    {
      "cell_type": "markdown",
      "source": [
        "Based on the graphs above we can say that after 10 epochs the losses and accuracy have not radically changed, but still performance has improved.\n",
        "It can be reduced to 20 epochs."
      ],
      "metadata": {
        "id": "AZj8WHLbclsP"
      }
    },
    {
      "cell_type": "code",
      "source": [],
      "metadata": {
        "id": "Pv9awRJocmiy"
      },
      "execution_count": null,
      "outputs": []
    }
  ]
}