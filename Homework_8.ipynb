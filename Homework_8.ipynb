{
  "nbformat": 4,
  "nbformat_minor": 0,
  "metadata": {
    "colab": {
      "provenance": [],
      "authorship_tag": "ABX9TyPG2qvSNIFD3Z9DwpLV3amh",
      "include_colab_link": true
    },
    "kernelspec": {
      "name": "python3",
      "display_name": "Python 3"
    },
    "language_info": {
      "name": "python"
    }
  },
  "cells": [
    {
      "cell_type": "markdown",
      "metadata": {
        "id": "view-in-github",
        "colab_type": "text"
      },
      "source": [
        "<a href=\"https://colab.research.google.com/github/Rok-sana/ML-course/blob/main/Homework_8.ipynb\" target=\"_parent\"><img src=\"https://colab.research.google.com/assets/colab-badge.svg\" alt=\"Open In Colab\"/></a>"
      ]
    },
    {
      "cell_type": "code",
      "execution_count": null,
      "metadata": {
        "id": "bkbttz-w8KPH"
      },
      "outputs": [],
      "source": [
        "import pandas as pd\n",
        "import numpy as np\n",
        "import seaborn as sns\n",
        "import matplotlib.pyplot as plt\n",
        "\n",
        "from sklearn.model_selection import (train_test_split,\n",
        "                                     GridSearchCV)\n",
        "\n",
        "from sklearn.metrics import (mean_absolute_error,\n",
        "                             mean_squared_error,\n",
        "                             roc_auc_score, \n",
        "                             f1_score)\n",
        "\n",
        "from sklearn import preprocessing\n",
        "\n",
        "from sklearn.preprocessing import(MinMaxScaler,\n",
        "                                  StandardScaler,\n",
        "                                  LabelEncoder)\n",
        "\n",
        "from yellowbrick.classifier import ClassificationReport\n",
        "from yellowbrick.features import Rank2D\n",
        "\n",
        "from imblearn.over_sampling import SMOTE"
      ]
    },
    {
      "cell_type": "code",
      "source": [
        "glass_df = pd.read_csv('glass.data', header=None)\n",
        "glass_df = glass_df.drop(glass_df.columns[0], axis=1)\n",
        "glass_df.columns = ['r_index', 'sodium', 'magnesium', 'aluminum', 'silicon', 'potassium', 'calcium', 'barium', 'iron', 'glass_type']"
      ],
      "metadata": {
        "id": "1Y53Sn4dQfbq"
      },
      "execution_count": null,
      "outputs": []
    },
    {
      "cell_type": "code",
      "source": [
        "glass_df.head()"
      ],
      "metadata": {
        "colab": {
          "base_uri": "https://localhost:8080/",
          "height": 204
        },
        "id": "2ywf7XVAQfkA",
        "outputId": "96197408-6964-4673-c41e-29fb4ca437b2"
      },
      "execution_count": null,
      "outputs": [
        {
          "output_type": "execute_result",
          "data": {
            "text/plain": [
              "   r_index  sodium  magnesium  aluminum  silicon  potassium  calcium  barium  \\\n",
              "0  1.52101   13.64       4.49      1.10    71.78       0.06     8.75     0.0   \n",
              "1  1.51761   13.89       3.60      1.36    72.73       0.48     7.83     0.0   \n",
              "2  1.51618   13.53       3.55      1.54    72.99       0.39     7.78     0.0   \n",
              "3  1.51766   13.21       3.69      1.29    72.61       0.57     8.22     0.0   \n",
              "4  1.51742   13.27       3.62      1.24    73.08       0.55     8.07     0.0   \n",
              "\n",
              "   iron  glass_type  \n",
              "0   0.0           1  \n",
              "1   0.0           1  \n",
              "2   0.0           1  \n",
              "3   0.0           1  \n",
              "4   0.0           1  "
            ],
            "text/html": [
              "\n",
              "  <div id=\"df-87bfc3ad-12f1-44ad-a2c9-c7f48ec65eda\">\n",
              "    <div class=\"colab-df-container\">\n",
              "      <div>\n",
              "<style scoped>\n",
              "    .dataframe tbody tr th:only-of-type {\n",
              "        vertical-align: middle;\n",
              "    }\n",
              "\n",
              "    .dataframe tbody tr th {\n",
              "        vertical-align: top;\n",
              "    }\n",
              "\n",
              "    .dataframe thead th {\n",
              "        text-align: right;\n",
              "    }\n",
              "</style>\n",
              "<table border=\"1\" class=\"dataframe\">\n",
              "  <thead>\n",
              "    <tr style=\"text-align: right;\">\n",
              "      <th></th>\n",
              "      <th>r_index</th>\n",
              "      <th>sodium</th>\n",
              "      <th>magnesium</th>\n",
              "      <th>aluminum</th>\n",
              "      <th>silicon</th>\n",
              "      <th>potassium</th>\n",
              "      <th>calcium</th>\n",
              "      <th>barium</th>\n",
              "      <th>iron</th>\n",
              "      <th>glass_type</th>\n",
              "    </tr>\n",
              "  </thead>\n",
              "  <tbody>\n",
              "    <tr>\n",
              "      <th>0</th>\n",
              "      <td>1.52101</td>\n",
              "      <td>13.64</td>\n",
              "      <td>4.49</td>\n",
              "      <td>1.10</td>\n",
              "      <td>71.78</td>\n",
              "      <td>0.06</td>\n",
              "      <td>8.75</td>\n",
              "      <td>0.0</td>\n",
              "      <td>0.0</td>\n",
              "      <td>1</td>\n",
              "    </tr>\n",
              "    <tr>\n",
              "      <th>1</th>\n",
              "      <td>1.51761</td>\n",
              "      <td>13.89</td>\n",
              "      <td>3.60</td>\n",
              "      <td>1.36</td>\n",
              "      <td>72.73</td>\n",
              "      <td>0.48</td>\n",
              "      <td>7.83</td>\n",
              "      <td>0.0</td>\n",
              "      <td>0.0</td>\n",
              "      <td>1</td>\n",
              "    </tr>\n",
              "    <tr>\n",
              "      <th>2</th>\n",
              "      <td>1.51618</td>\n",
              "      <td>13.53</td>\n",
              "      <td>3.55</td>\n",
              "      <td>1.54</td>\n",
              "      <td>72.99</td>\n",
              "      <td>0.39</td>\n",
              "      <td>7.78</td>\n",
              "      <td>0.0</td>\n",
              "      <td>0.0</td>\n",
              "      <td>1</td>\n",
              "    </tr>\n",
              "    <tr>\n",
              "      <th>3</th>\n",
              "      <td>1.51766</td>\n",
              "      <td>13.21</td>\n",
              "      <td>3.69</td>\n",
              "      <td>1.29</td>\n",
              "      <td>72.61</td>\n",
              "      <td>0.57</td>\n",
              "      <td>8.22</td>\n",
              "      <td>0.0</td>\n",
              "      <td>0.0</td>\n",
              "      <td>1</td>\n",
              "    </tr>\n",
              "    <tr>\n",
              "      <th>4</th>\n",
              "      <td>1.51742</td>\n",
              "      <td>13.27</td>\n",
              "      <td>3.62</td>\n",
              "      <td>1.24</td>\n",
              "      <td>73.08</td>\n",
              "      <td>0.55</td>\n",
              "      <td>8.07</td>\n",
              "      <td>0.0</td>\n",
              "      <td>0.0</td>\n",
              "      <td>1</td>\n",
              "    </tr>\n",
              "  </tbody>\n",
              "</table>\n",
              "</div>\n",
              "      <button class=\"colab-df-convert\" onclick=\"convertToInteractive('df-87bfc3ad-12f1-44ad-a2c9-c7f48ec65eda')\"\n",
              "              title=\"Convert this dataframe to an interactive table.\"\n",
              "              style=\"display:none;\">\n",
              "        \n",
              "  <svg xmlns=\"http://www.w3.org/2000/svg\" height=\"24px\"viewBox=\"0 0 24 24\"\n",
              "       width=\"24px\">\n",
              "    <path d=\"M0 0h24v24H0V0z\" fill=\"none\"/>\n",
              "    <path d=\"M18.56 5.44l.94 2.06.94-2.06 2.06-.94-2.06-.94-.94-2.06-.94 2.06-2.06.94zm-11 1L8.5 8.5l.94-2.06 2.06-.94-2.06-.94L8.5 2.5l-.94 2.06-2.06.94zm10 10l.94 2.06.94-2.06 2.06-.94-2.06-.94-.94-2.06-.94 2.06-2.06.94z\"/><path d=\"M17.41 7.96l-1.37-1.37c-.4-.4-.92-.59-1.43-.59-.52 0-1.04.2-1.43.59L10.3 9.45l-7.72 7.72c-.78.78-.78 2.05 0 2.83L4 21.41c.39.39.9.59 1.41.59.51 0 1.02-.2 1.41-.59l7.78-7.78 2.81-2.81c.8-.78.8-2.07 0-2.86zM5.41 20L4 18.59l7.72-7.72 1.47 1.35L5.41 20z\"/>\n",
              "  </svg>\n",
              "      </button>\n",
              "      \n",
              "  <style>\n",
              "    .colab-df-container {\n",
              "      display:flex;\n",
              "      flex-wrap:wrap;\n",
              "      gap: 12px;\n",
              "    }\n",
              "\n",
              "    .colab-df-convert {\n",
              "      background-color: #E8F0FE;\n",
              "      border: none;\n",
              "      border-radius: 50%;\n",
              "      cursor: pointer;\n",
              "      display: none;\n",
              "      fill: #1967D2;\n",
              "      height: 32px;\n",
              "      padding: 0 0 0 0;\n",
              "      width: 32px;\n",
              "    }\n",
              "\n",
              "    .colab-df-convert:hover {\n",
              "      background-color: #E2EBFA;\n",
              "      box-shadow: 0px 1px 2px rgba(60, 64, 67, 0.3), 0px 1px 3px 1px rgba(60, 64, 67, 0.15);\n",
              "      fill: #174EA6;\n",
              "    }\n",
              "\n",
              "    [theme=dark] .colab-df-convert {\n",
              "      background-color: #3B4455;\n",
              "      fill: #D2E3FC;\n",
              "    }\n",
              "\n",
              "    [theme=dark] .colab-df-convert:hover {\n",
              "      background-color: #434B5C;\n",
              "      box-shadow: 0px 1px 3px 1px rgba(0, 0, 0, 0.15);\n",
              "      filter: drop-shadow(0px 1px 2px rgba(0, 0, 0, 0.3));\n",
              "      fill: #FFFFFF;\n",
              "    }\n",
              "  </style>\n",
              "\n",
              "      <script>\n",
              "        const buttonEl =\n",
              "          document.querySelector('#df-87bfc3ad-12f1-44ad-a2c9-c7f48ec65eda button.colab-df-convert');\n",
              "        buttonEl.style.display =\n",
              "          google.colab.kernel.accessAllowed ? 'block' : 'none';\n",
              "\n",
              "        async function convertToInteractive(key) {\n",
              "          const element = document.querySelector('#df-87bfc3ad-12f1-44ad-a2c9-c7f48ec65eda');\n",
              "          const dataTable =\n",
              "            await google.colab.kernel.invokeFunction('convertToInteractive',\n",
              "                                                     [key], {});\n",
              "          if (!dataTable) return;\n",
              "\n",
              "          const docLinkHtml = 'Like what you see? Visit the ' +\n",
              "            '<a target=\"_blank\" href=https://colab.research.google.com/notebooks/data_table.ipynb>data table notebook</a>'\n",
              "            + ' to learn more about interactive tables.';\n",
              "          element.innerHTML = '';\n",
              "          dataTable['output_type'] = 'display_data';\n",
              "          await google.colab.output.renderOutput(dataTable, element);\n",
              "          const docLink = document.createElement('div');\n",
              "          docLink.innerHTML = docLinkHtml;\n",
              "          element.appendChild(docLink);\n",
              "        }\n",
              "      </script>\n",
              "    </div>\n",
              "  </div>\n",
              "  "
            ]
          },
          "metadata": {},
          "execution_count": 3
        }
      ]
    },
    {
      "cell_type": "code",
      "source": [
        "glass_df.info()"
      ],
      "metadata": {
        "colab": {
          "base_uri": "https://localhost:8080/"
        },
        "id": "JKYQQfpIMkDM",
        "outputId": "4d74d8b6-690a-470c-8cca-9e493c4ae83f"
      },
      "execution_count": null,
      "outputs": [
        {
          "output_type": "stream",
          "name": "stdout",
          "text": [
            "<class 'pandas.core.frame.DataFrame'>\n",
            "RangeIndex: 214 entries, 0 to 213\n",
            "Data columns (total 10 columns):\n",
            " #   Column      Non-Null Count  Dtype  \n",
            "---  ------      --------------  -----  \n",
            " 0   r_index     214 non-null    float64\n",
            " 1   sodium      214 non-null    float64\n",
            " 2   magnesium   214 non-null    float64\n",
            " 3   aluminum    214 non-null    float64\n",
            " 4   silicon     214 non-null    float64\n",
            " 5   potassium   214 non-null    float64\n",
            " 6   calcium     214 non-null    float64\n",
            " 7   barium      214 non-null    float64\n",
            " 8   iron        214 non-null    float64\n",
            " 9   glass_type  214 non-null    int64  \n",
            "dtypes: float64(9), int64(1)\n",
            "memory usage: 16.8 KB\n"
          ]
        }
      ]
    },
    {
      "cell_type": "code",
      "source": [
        "glass_df['glass_type'].value_counts()"
      ],
      "metadata": {
        "colab": {
          "base_uri": "https://localhost:8080/"
        },
        "id": "36EPCrNqQfr9",
        "outputId": "c38a4aef-bcc2-4b54-baae-0edcab326e11"
      },
      "execution_count": null,
      "outputs": [
        {
          "output_type": "execute_result",
          "data": {
            "text/plain": [
              "2    76\n",
              "1    70\n",
              "7    29\n",
              "3    17\n",
              "5    13\n",
              "6     9\n",
              "Name: glass_type, dtype: int64"
            ]
          },
          "metadata": {},
          "execution_count": 5
        }
      ]
    },
    {
      "cell_type": "code",
      "source": [
        "plt.pie(\n",
        "    glass_df['glass_type'].value_counts(),\n",
        "    shadow = False,\n",
        "    startangle=90,\n",
        "    autopct='%1.1f%%'\n",
        ")\n",
        "plt.axis('equal')\n",
        "plt.tight_layout()\n",
        "plt.show()"
      ],
      "metadata": {
        "colab": {
          "base_uri": "https://localhost:8080/",
          "height": 401
        },
        "id": "vFCC1EEtKjSW",
        "outputId": "09a90743-6302-41f7-be59-d34f2cb4bfeb"
      },
      "execution_count": null,
      "outputs": [
        {
          "output_type": "display_data",
          "data": {
            "text/plain": [
              "<Figure size 576x396 with 1 Axes>"
            ],
            "image/png": "[encoded data removed]"
          },
          "metadata": {}
        }
      ]
    },
    {
      "cell_type": "markdown",
      "source": [
        "Target is categorized not equivalent"
      ],
      "metadata": {
        "id": "PMpBQT7bAy-X"
      }
    },
    {
      "cell_type": "code",
      "source": [
        "fig, ax = plt.subplots(figsize=(6, 6))\n",
        "pcv = Rank2D(features=glass_df.columns, algorithm=\"pearson\")\n",
        "pcv.fit(glass_df, glass_df.glass_type)\n",
        "pcv.transform(glass_df)\n",
        "pcv.poof()"
      ],
      "metadata": {
        "colab": {
          "base_uri": "https://localhost:8080/",
          "height": 407
        },
        "id": "JEZYp1geGauF",
        "outputId": "4449c7b9-753b-41c6-ec09-c6bda9efeb50"
      },
      "execution_count": null,
      "outputs": [
        {
          "output_type": "display_data",
          "data": {
            "text/plain": [
              "<Figure size 432x432 with 2 Axes>"
            ],
            "image/png": "[encoded data removed]"
          },
          "metadata": {}
        },
        {
          "output_type": "execute_result",
          "data": {
            "text/plain": [
              "<matplotlib.axes._subplots.AxesSubplot at 0x7fd5ceaddee0>"
            ]
          },
          "metadata": {},
          "execution_count": 7
        }
      ]
    },
    {
      "cell_type": "code",
      "source": [
        "def correlated_columns(df, threshold=0.95):\n",
        "  return (df.corr().pipe(\n",
        "      lambda df1: pd.DataFrame(\n",
        "            np.tril(df1, k=-1),\n",
        "            columns=df.columns,\n",
        "            index=df.columns,))\n",
        "  .stack()\n",
        "  .rename(\"pearson\")\n",
        "  .pipe(\n",
        "      lambda s: s[s.abs() > threshold].reset_index())\n",
        "  .query(\"level_0 not in level_1\"))"
      ],
      "metadata": {
        "id": "JS2RIQB5GwwT"
      },
      "execution_count": null,
      "outputs": []
    },
    {
      "cell_type": "code",
      "source": [
        "c_df = correlated_columns(glass_df)\n",
        "c_df.style.format({\"pearson\": \"{:.2f}\"})"
      ],
      "metadata": {
        "colab": {
          "base_uri": "https://localhost:8080/",
          "height": 49
        },
        "id": "mRXa6J8XGw1c",
        "outputId": "4ea696e7-059c-4a1c-a7a6-8a95dd0c5f3f"
      },
      "execution_count": null,
      "outputs": [
        {
          "output_type": "execute_result",
          "data": {
            "text/plain": [
              "<pandas.io.formats.style.Styler at 0x7fd621b265e0>"
            ],
            "text/html": [
              "<style type=\"text/css\">\n",
              "</style>\n",
              "<table id=\"T_9870f_\" class=\"dataframe\">\n",
              "  <thead>\n",
              "    <tr>\n",
              "      <th class=\"blank level0\" >&nbsp;</th>\n",
              "      <th class=\"col_heading level0 col0\" >level_0</th>\n",
              "      <th class=\"col_heading level0 col1\" >level_1</th>\n",
              "      <th class=\"col_heading level0 col2\" >pearson</th>\n",
              "    </tr>\n",
              "  </thead>\n",
              "  <tbody>\n",
              "  </tbody>\n",
              "</table>\n"
            ]
          },
          "metadata": {},
          "execution_count": 9
        }
      ]
    },
    {
      "cell_type": "markdown",
      "source": [
        "In this case data haven't over correlated values "
      ],
      "metadata": {
        "id": "meYU0a8mHEEK"
      }
    },
    {
      "cell_type": "code",
      "source": [
        "y = glass_df.glass_type\n",
        "X = glass_df.drop(glass_df.columns[9], axis=1)"
      ],
      "metadata": {
        "id": "F8JJLvQmqESK"
      },
      "execution_count": null,
      "outputs": []
    },
    {
      "cell_type": "code",
      "source": [
        "y = LabelEncoder().fit_transform(y)"
      ],
      "metadata": {
        "id": "YVyPNDK2wb59"
      },
      "execution_count": null,
      "outputs": []
    },
    {
      "cell_type": "code",
      "source": [
        "oversample = SMOTE()\n",
        "X, y = oversample.fit_resample(X, y)"
      ],
      "metadata": {
        "id": "-I_lflWxwwDv"
      },
      "execution_count": null,
      "outputs": []
    },
    {
      "cell_type": "markdown",
      "source": [
        "In this dataset for avoiding the imbalanced-learn implements  SMOTE, which both upsample and then apply downsampling to clean up the data."
      ],
      "metadata": {
        "id": "pf5BdgoOy_Qy"
      }
    },
    {
      "cell_type": "code",
      "source": [
        "from sklearn.model_selection import train_test_split\n",
        "X_train, X_test, y_train, y_test = train_test_split(X, y, test_size=0.25,stratify=y,random_state=0)\n",
        "X_train.shape, X_test.shape, y_train.shape, y_test.shape\n",
        "     "
      ],
      "metadata": {
        "colab": {
          "base_uri": "https://localhost:8080/"
        },
        "id": "-ypEuNZ3p5Os",
        "outputId": "bfabb303-98f6-41e4-a2a9-bc9b6f080ab0"
      },
      "execution_count": null,
      "outputs": [
        {
          "output_type": "execute_result",
          "data": {
            "text/plain": [
              "((342, 9), (114, 9), (342,), (114,))"
            ]
          },
          "metadata": {},
          "execution_count": 13
        }
      ]
    },
    {
      "cell_type": "code",
      "source": [
        "sc = StandardScaler()\n",
        "X_train = sc.fit_transform(X_train)\n",
        "X_test = sc.transform(X_test)"
      ],
      "metadata": {
        "id": "a4Dx51HrxA56"
      },
      "execution_count": null,
      "outputs": []
    },
    {
      "cell_type": "code",
      "source": [
        "model_name = []\n",
        "test_score = []\n",
        "train_score= []"
      ],
      "metadata": {
        "id": "Ek5PRGAtXiWo"
      },
      "execution_count": null,
      "outputs": []
    },
    {
      "cell_type": "markdown",
      "source": [
        "**1. DecisionTreeClassifier**"
      ],
      "metadata": {
        "id": "V9ju4X1ugdAH"
      }
    },
    {
      "cell_type": "code",
      "source": [
        "from sklearn.tree import DecisionTreeClassifier\n",
        "\n",
        "tree = DecisionTreeClassifier(random_state=0)\n",
        "tree.fit(X_train, y_train)\n",
        "\n",
        "# storing training data accuracy\n",
        "train_score.append(tree.score(X_train, y_train))      \n",
        "model_name.append('DecisionTree')\n",
        "\n",
        "# storing test data accuracy\n",
        "y_pred_tree = tree.predict(X_test)\n",
        "test_score.append(f1_score(y_test, y_pred_tree, average='micro'))"
      ],
      "metadata": {
        "id": "33Sz0R76U4tH"
      },
      "execution_count": null,
      "outputs": []
    },
    {
      "cell_type": "markdown",
      "source": [
        "**2.RandomForestClassifier**"
      ],
      "metadata": {
        "id": "qiYcZLZcgixD"
      }
    },
    {
      "cell_type": "code",
      "source": [
        "from sklearn.ensemble import RandomForestClassifier\n",
        "\n",
        "random_grid = {'n_estimators': [50,100,200, 400],\n",
        "               'max_depth': [10, 20, 30, 40, 50], \n",
        "               'criterion': [\"entropy\", \"gini\"]\n",
        "               }\n",
        "\n",
        "clf_grid = GridSearchCV(RandomForestClassifier(random_state=0), random_grid, verbose=1, cv=4, scoring='f1_micro')\n",
        "                \n",
        "# Train the classifier\n",
        "clf_grid.fit(X_train, y_train)\n",
        "\n",
        "print(\"Best Parameters:\\n\", clf_grid.best_params_)\n",
        "print(\"Best Estimators:\\n\", clf_grid.best_estimator_)"
      ],
      "metadata": {
        "id": "5b9ojfIaYv1k",
        "colab": {
          "base_uri": "https://localhost:8080/"
        },
        "outputId": "1628f874-72e2-445f-d666-5bbd817ede52"
      },
      "execution_count": null,
      "outputs": [
        {
          "output_type": "stream",
          "name": "stdout",
          "text": [
            "Fitting 4 folds for each of 40 candidates, totalling 160 fits\n",
            "Best Parameters:\n",
            " {'criterion': 'entropy', 'max_depth': 20, 'n_estimators': 400}\n",
            "Best Estimators:\n",
            " RandomForestClassifier(criterion='entropy', max_depth=20, n_estimators=400,\n",
            "                       random_state=0)\n"
          ]
        }
      ]
    },
    {
      "cell_type": "code",
      "source": [
        "rfc = RandomForestClassifier(max_depth=20,n_estimators=400,criterion='entropy',random_state=0)\n",
        "rfc.fit(X_train, y_train)\n",
        "\n",
        "# storing training data accuracy\n",
        "train_score.append(rfc.score(X_train, y_train))\n",
        "model_name.append('RandomForest')\n",
        "\n",
        "# storing test data accuracy\n",
        "y_pred_rand = rfc.predict(X_test)\n",
        "test_score.append(f1_score(y_test, y_pred_rand, average='micro'))"
      ],
      "metadata": {
        "id": "HK9WL4oBaqrT"
      },
      "execution_count": null,
      "outputs": []
    },
    {
      "cell_type": "markdown",
      "source": [
        "**3.SVC**"
      ],
      "metadata": {
        "id": "XgrHs0_hgpqQ"
      }
    },
    {
      "cell_type": "code",
      "source": [
        "from sklearn.svm import SVC \n",
        "\n",
        "param_grid = {'C': [0.1, 1, 10, 100, 1000], \n",
        "              'gamma': [1, 0.1, 0.01, 0.001, 0.0001]}\n",
        "# Make grid search classifier\n",
        "clf_grid = GridSearchCV(SVC(), param_grid, verbose=1, scoring='f1_micro')\n",
        "                \n",
        "# Train the classifier\n",
        "clf_grid.fit(X_train, y_train)\n",
        "\n",
        "print(\"Best Parameters:\\n\", clf_grid.best_params_)\n",
        "print(\"Best Estimators:\\n\", clf_grid.best_estimator_)"
      ],
      "metadata": {
        "colab": {
          "base_uri": "https://localhost:8080/"
        },
        "id": "Ubm0r5CHlLHt",
        "outputId": "1fa5addb-93f5-496d-f5a3-1afea46ecc61"
      },
      "execution_count": null,
      "outputs": [
        {
          "output_type": "stream",
          "name": "stdout",
          "text": [
            "Fitting 5 folds for each of 25 candidates, totalling 125 fits\n",
            "Best Parameters:\n",
            " {'C': 1000, 'gamma': 0.1}\n",
            "Best Estimators:\n",
            " SVC(C=1000, gamma=0.1)\n"
          ]
        }
      ]
    },
    {
      "cell_type": "code",
      "source": [
        "model = SVC(C = 1000, gamma= 0.1)\n",
        "\n",
        "model.fit(X_train,y_train)\n",
        "# storing test data accuracy\n",
        "train_score.append(model.score(X_train, y_train))\n",
        "model_name.append('SVC')\n",
        "\n",
        "# storing test data accuracy\n",
        "y_pred_svc = model.predict(X_test)\n",
        "test_score.append(f1_score(y_test, y_pred_svc, average='micro'))"
      ],
      "metadata": {
        "id": "0DyKfTXSCJ_X"
      },
      "execution_count": null,
      "outputs": []
    },
    {
      "cell_type": "markdown",
      "source": [
        "**4.AdaBoostClassifier**"
      ],
      "metadata": {
        "id": "V845jM3qg2rO"
      }
    },
    {
      "cell_type": "code",
      "source": [
        "from sklearn.ensemble import AdaBoostClassifier\n",
        "\n",
        "adaboost = AdaBoostClassifier(base_estimator=rfc, n_estimators=50, learning_rate=1)\n",
        "adaboost.fit(X_train, y_train)\n",
        "\n",
        "# storing training data accuracy\n",
        "train_score.append(adaboost.score(X_train, y_train))\n",
        "model_name.append('AdaBoost')\n",
        "\n",
        "# storing test data accuracy\n",
        "y_pred_ada = adaboost.predict(X_test)\n",
        "test_score.append(f1_score(y_test, y_pred_ada, average='micro'))\n",
        "     "
      ],
      "metadata": {
        "id": "yNfffdWulLTB"
      },
      "execution_count": null,
      "outputs": []
    },
    {
      "cell_type": "markdown",
      "source": [
        "**5.XGBClassifier**"
      ],
      "metadata": {
        "id": "-lFxhy6zhHb6"
      }
    },
    {
      "cell_type": "code",
      "source": [
        "from xgboost import XGBClassifier\n",
        "xgb = XGBClassifier()\n",
        "xgb.fit(X_train, y_train)\n",
        "\n",
        "train_score.append(xgb.score(X_train, y_train))\n",
        "model_name.append('XGBoost')\n",
        "\n",
        "y_pred_xgb = xgb.predict(X_test)\n",
        "test_score.append(f1_score(y_test, y_pred_xgb, average='micro'))\n"
      ],
      "metadata": {
        "id": "nMOoScaJlQaD"
      },
      "execution_count": null,
      "outputs": []
    },
    {
      "cell_type": "code",
      "source": [
        "result = pd.DataFrame()\n",
        "result['model'] = pd.Series(model_name)\n",
        "result['Train score'] = pd.Series(train_score).round(2)\n",
        "result['Test score'] = pd.Series(test_score).round(2)"
      ],
      "metadata": {
        "id": "5RcgY9gDl4XE"
      },
      "execution_count": null,
      "outputs": []
    },
    {
      "cell_type": "code",
      "source": [
        "result"
      ],
      "metadata": {
        "colab": {
          "base_uri": "https://localhost:8080/",
          "height": 204
        },
        "id": "Z6quV2uol6ox",
        "outputId": "487f9781-b3f6-431e-f2ab-2e1a8cdf17c0"
      },
      "execution_count": null,
      "outputs": [
        {
          "output_type": "execute_result",
          "data": {
            "text/plain": [
              "          model  Train score  Test score\n",
              "0  DecisionTree         1.00        0.89\n",
              "1  RandomForest         1.00        0.93\n",
              "2           SVC         0.99        0.90\n",
              "3      AdaBoost         1.00        0.93\n",
              "4       XGBoost         1.00        0.94"
            ],
            "text/html": [
              "\n",
              "  <div id=\"df-fd48be80-91b9-4c79-8829-c85da0b648f2\">\n",
              "    <div class=\"colab-df-container\">\n",
              "      <div>\n",
              "<style scoped>\n",
              "    .dataframe tbody tr th:only-of-type {\n",
              "        vertical-align: middle;\n",
              "    }\n",
              "\n",
              "    .dataframe tbody tr th {\n",
              "        vertical-align: top;\n",
              "    }\n",
              "\n",
              "    .dataframe thead th {\n",
              "        text-align: right;\n",
              "    }\n",
              "</style>\n",
              "<table border=\"1\" class=\"dataframe\">\n",
              "  <thead>\n",
              "    <tr style=\"text-align: right;\">\n",
              "      <th></th>\n",
              "      <th>model</th>\n",
              "      <th>Train score</th>\n",
              "      <th>Test score</th>\n",
              "    </tr>\n",
              "  </thead>\n",
              "  <tbody>\n",
              "    <tr>\n",
              "      <th>0</th>\n",
              "      <td>DecisionTree</td>\n",
              "      <td>1.00</td>\n",
              "      <td>0.89</td>\n",
              "    </tr>\n",
              "    <tr>\n",
              "      <th>1</th>\n",
              "      <td>RandomForest</td>\n",
              "      <td>1.00</td>\n",
              "      <td>0.93</td>\n",
              "    </tr>\n",
              "    <tr>\n",
              "      <th>2</th>\n",
              "      <td>SVC</td>\n",
              "      <td>0.99</td>\n",
              "      <td>0.90</td>\n",
              "    </tr>\n",
              "    <tr>\n",
              "      <th>3</th>\n",
              "      <td>AdaBoost</td>\n",
              "      <td>1.00</td>\n",
              "      <td>0.93</td>\n",
              "    </tr>\n",
              "    <tr>\n",
              "      <th>4</th>\n",
              "      <td>XGBoost</td>\n",
              "      <td>1.00</td>\n",
              "      <td>0.94</td>\n",
              "    </tr>\n",
              "  </tbody>\n",
              "</table>\n",
              "</div>\n",
              "      <button class=\"colab-df-convert\" onclick=\"convertToInteractive('df-fd48be80-91b9-4c79-8829-c85da0b648f2')\"\n",
              "              title=\"Convert this dataframe to an interactive table.\"\n",
              "              style=\"display:none;\">\n",
              "        \n",
              "  <svg xmlns=\"http://www.w3.org/2000/svg\" height=\"24px\"viewBox=\"0 0 24 24\"\n",
              "       width=\"24px\">\n",
              "    <path d=\"M0 0h24v24H0V0z\" fill=\"none\"/>\n",
              "    <path d=\"M18.56 5.44l.94 2.06.94-2.06 2.06-.94-2.06-.94-.94-2.06-.94 2.06-2.06.94zm-11 1L8.5 8.5l.94-2.06 2.06-.94-2.06-.94L8.5 2.5l-.94 2.06-2.06.94zm10 10l.94 2.06.94-2.06 2.06-.94-2.06-.94-.94-2.06-.94 2.06-2.06.94z\"/><path d=\"M17.41 7.96l-1.37-1.37c-.4-.4-.92-.59-1.43-.59-.52 0-1.04.2-1.43.59L10.3 9.45l-7.72 7.72c-.78.78-.78 2.05 0 2.83L4 21.41c.39.39.9.59 1.41.59.51 0 1.02-.2 1.41-.59l7.78-7.78 2.81-2.81c.8-.78.8-2.07 0-2.86zM5.41 20L4 18.59l7.72-7.72 1.47 1.35L5.41 20z\"/>\n",
              "  </svg>\n",
              "      </button>\n",
              "      \n",
              "  <style>\n",
              "    .colab-df-container {\n",
              "      display:flex;\n",
              "      flex-wrap:wrap;\n",
              "      gap: 12px;\n",
              "    }\n",
              "\n",
              "    .colab-df-convert {\n",
              "      background-color: #E8F0FE;\n",
              "      border: none;\n",
              "      border-radius: 50%;\n",
              "      cursor: pointer;\n",
              "      display: none;\n",
              "      fill: #1967D2;\n",
              "      height: 32px;\n",
              "      padding: 0 0 0 0;\n",
              "      width: 32px;\n",
              "    }\n",
              "\n",
              "    .colab-df-convert:hover {\n",
              "      background-color: #E2EBFA;\n",
              "      box-shadow: 0px 1px 2px rgba(60, 64, 67, 0.3), 0px 1px 3px 1px rgba(60, 64, 67, 0.15);\n",
              "      fill: #174EA6;\n",
              "    }\n",
              "\n",
              "    [theme=dark] .colab-df-convert {\n",
              "      background-color: #3B4455;\n",
              "      fill: #D2E3FC;\n",
              "    }\n",
              "\n",
              "    [theme=dark] .colab-df-convert:hover {\n",
              "      background-color: #434B5C;\n",
              "      box-shadow: 0px 1px 3px 1px rgba(0, 0, 0, 0.15);\n",
              "      filter: drop-shadow(0px 1px 2px rgba(0, 0, 0, 0.3));\n",
              "      fill: #FFFFFF;\n",
              "    }\n",
              "  </style>\n",
              "\n",
              "      <script>\n",
              "        const buttonEl =\n",
              "          document.querySelector('#df-fd48be80-91b9-4c79-8829-c85da0b648f2 button.colab-df-convert');\n",
              "        buttonEl.style.display =\n",
              "          google.colab.kernel.accessAllowed ? 'block' : 'none';\n",
              "\n",
              "        async function convertToInteractive(key) {\n",
              "          const element = document.querySelector('#df-fd48be80-91b9-4c79-8829-c85da0b648f2');\n",
              "          const dataTable =\n",
              "            await google.colab.kernel.invokeFunction('convertToInteractive',\n",
              "                                                     [key], {});\n",
              "          if (!dataTable) return;\n",
              "\n",
              "          const docLinkHtml = 'Like what you see? Visit the ' +\n",
              "            '<a target=\"_blank\" href=https://colab.research.google.com/notebooks/data_table.ipynb>data table notebook</a>'\n",
              "            + ' to learn more about interactive tables.';\n",
              "          element.innerHTML = '';\n",
              "          dataTable['output_type'] = 'display_data';\n",
              "          await google.colab.output.renderOutput(dataTable, element);\n",
              "          const docLink = document.createElement('div');\n",
              "          docLink.innerHTML = docLinkHtml;\n",
              "          element.appendChild(docLink);\n",
              "        }\n",
              "      </script>\n",
              "    </div>\n",
              "  </div>\n",
              "  "
            ]
          },
          "metadata": {},
          "execution_count": 24
        }
      ]
    },
    {
      "cell_type": "markdown",
      "source": [
        "Best results on test dataset shows RandomForest classifier, AdaBoost and XGBoost. F1 scores are equal 93% and 94%"
      ],
      "metadata": {
        "id": "enrUEwNpu7KT"
      }
    }
  ]
}